{
 "cells": [
  {
   "cell_type": "markdown",
   "metadata": {},
   "source": [
    "# Part 1"
   ]
  },
  {
   "cell_type": "code",
   "execution_count": 41,
   "metadata": {
    "collapsed": true
   },
   "outputs": [],
   "source": [
    "import pandas as pd"
   ]
  },
  {
   "cell_type": "code",
   "execution_count": 42,
   "metadata": {
    "collapsed": false
   },
   "outputs": [],
   "source": [
    "col_names = pd.read_table('https://gist.githubusercontent.com/jeff-boykin/b5c536467c30d66ab97cd1f5c9a3497d/raw/5233c792af49c9b78f20c35d5cd729e1307a7df7/field_names.txt', header = None)\n",
    "df = pd.read_csv('https://gist.githubusercontent.com/jeff-boykin/b5c536467c30d66ab97cd1f5c9a3497d/raw/5233c792af49c9b78f20c35d5cd729e1307a7df7/breast-cancer.csv', names = col_names[0])\n",
    "del col_names"
   ]
  },
  {
   "cell_type": "code",
   "execution_count": 3,
   "metadata": {
    "collapsed": true
   },
   "outputs": [
    {
     "data": {
      "text/html": [
       "<div>\n",
       "<table border=\"1\" class=\"dataframe\">\n",
       "  <thead>\n",
       "    <tr style=\"text-align: right;\">\n",
       "      <th></th>\n",
       "      <th>ID</th>\n",
       "      <th>diagnosis</th>\n",
       "      <th>radius_mean</th>\n",
       "      <th>radius_sd_error</th>\n",
       "      <th>radius_worst</th>\n",
       "      <th>texture_mean</th>\n",
       "      <th>texture_sd_error</th>\n",
       "      <th>texture_worst</th>\n",
       "      <th>perimeter_mean</th>\n",
       "      <th>perimeter_sd_error</th>\n",
       "      <th>...</th>\n",
       "      <th>concavity_worst</th>\n",
       "      <th>concave_points_mean</th>\n",
       "      <th>concave_points_sd_error</th>\n",
       "      <th>concave_points_worst</th>\n",
       "      <th>symmetry_mean</th>\n",
       "      <th>symmetry_sd_error</th>\n",
       "      <th>symmetry_worst</th>\n",
       "      <th>fractal_dimension_mean</th>\n",
       "      <th>fractal_dimension_sd_error</th>\n",
       "      <th>fractal_dimension_worst</th>\n",
       "    </tr>\n",
       "  </thead>\n",
       "  <tbody>\n",
       "    <tr>\n",
       "      <th>count</th>\n",
       "      <td>5.690000e+02</td>\n",
       "      <td>569</td>\n",
       "      <td>569.000000</td>\n",
       "      <td>569.000000</td>\n",
       "      <td>569.000000</td>\n",
       "      <td>569.000000</td>\n",
       "      <td>569.000000</td>\n",
       "      <td>569.000000</td>\n",
       "      <td>569.000000</td>\n",
       "      <td>569.000000</td>\n",
       "      <td>...</td>\n",
       "      <td>569.000000</td>\n",
       "      <td>569.000000</td>\n",
       "      <td>569.000000</td>\n",
       "      <td>569.000000</td>\n",
       "      <td>569.000000</td>\n",
       "      <td>569.000000</td>\n",
       "      <td>569.000000</td>\n",
       "      <td>569.000000</td>\n",
       "      <td>569.000000</td>\n",
       "      <td>569.000000</td>\n",
       "    </tr>\n",
       "    <tr>\n",
       "      <th>unique</th>\n",
       "      <td>NaN</td>\n",
       "      <td>2</td>\n",
       "      <td>NaN</td>\n",
       "      <td>NaN</td>\n",
       "      <td>NaN</td>\n",
       "      <td>NaN</td>\n",
       "      <td>NaN</td>\n",
       "      <td>NaN</td>\n",
       "      <td>NaN</td>\n",
       "      <td>NaN</td>\n",
       "      <td>...</td>\n",
       "      <td>NaN</td>\n",
       "      <td>NaN</td>\n",
       "      <td>NaN</td>\n",
       "      <td>NaN</td>\n",
       "      <td>NaN</td>\n",
       "      <td>NaN</td>\n",
       "      <td>NaN</td>\n",
       "      <td>NaN</td>\n",
       "      <td>NaN</td>\n",
       "      <td>NaN</td>\n",
       "    </tr>\n",
       "    <tr>\n",
       "      <th>top</th>\n",
       "      <td>NaN</td>\n",
       "      <td>B</td>\n",
       "      <td>NaN</td>\n",
       "      <td>NaN</td>\n",
       "      <td>NaN</td>\n",
       "      <td>NaN</td>\n",
       "      <td>NaN</td>\n",
       "      <td>NaN</td>\n",
       "      <td>NaN</td>\n",
       "      <td>NaN</td>\n",
       "      <td>...</td>\n",
       "      <td>NaN</td>\n",
       "      <td>NaN</td>\n",
       "      <td>NaN</td>\n",
       "      <td>NaN</td>\n",
       "      <td>NaN</td>\n",
       "      <td>NaN</td>\n",
       "      <td>NaN</td>\n",
       "      <td>NaN</td>\n",
       "      <td>NaN</td>\n",
       "      <td>NaN</td>\n",
       "    </tr>\n",
       "    <tr>\n",
       "      <th>freq</th>\n",
       "      <td>NaN</td>\n",
       "      <td>357</td>\n",
       "      <td>NaN</td>\n",
       "      <td>NaN</td>\n",
       "      <td>NaN</td>\n",
       "      <td>NaN</td>\n",
       "      <td>NaN</td>\n",
       "      <td>NaN</td>\n",
       "      <td>NaN</td>\n",
       "      <td>NaN</td>\n",
       "      <td>...</td>\n",
       "      <td>NaN</td>\n",
       "      <td>NaN</td>\n",
       "      <td>NaN</td>\n",
       "      <td>NaN</td>\n",
       "      <td>NaN</td>\n",
       "      <td>NaN</td>\n",
       "      <td>NaN</td>\n",
       "      <td>NaN</td>\n",
       "      <td>NaN</td>\n",
       "      <td>NaN</td>\n",
       "    </tr>\n",
       "    <tr>\n",
       "      <th>mean</th>\n",
       "      <td>3.037183e+07</td>\n",
       "      <td>NaN</td>\n",
       "      <td>14.127292</td>\n",
       "      <td>19.289649</td>\n",
       "      <td>91.969033</td>\n",
       "      <td>654.889104</td>\n",
       "      <td>0.096360</td>\n",
       "      <td>0.104341</td>\n",
       "      <td>0.088799</td>\n",
       "      <td>0.048919</td>\n",
       "      <td>...</td>\n",
       "      <td>16.269190</td>\n",
       "      <td>25.677223</td>\n",
       "      <td>107.261213</td>\n",
       "      <td>880.583128</td>\n",
       "      <td>0.132369</td>\n",
       "      <td>0.254265</td>\n",
       "      <td>0.272188</td>\n",
       "      <td>0.114606</td>\n",
       "      <td>0.290076</td>\n",
       "      <td>0.083946</td>\n",
       "    </tr>\n",
       "    <tr>\n",
       "      <th>std</th>\n",
       "      <td>1.250206e+08</td>\n",
       "      <td>NaN</td>\n",
       "      <td>3.524049</td>\n",
       "      <td>4.301036</td>\n",
       "      <td>24.298981</td>\n",
       "      <td>351.914129</td>\n",
       "      <td>0.014064</td>\n",
       "      <td>0.052813</td>\n",
       "      <td>0.079720</td>\n",
       "      <td>0.038803</td>\n",
       "      <td>...</td>\n",
       "      <td>4.833242</td>\n",
       "      <td>6.146258</td>\n",
       "      <td>33.602542</td>\n",
       "      <td>569.356993</td>\n",
       "      <td>0.022832</td>\n",
       "      <td>0.157336</td>\n",
       "      <td>0.208624</td>\n",
       "      <td>0.065732</td>\n",
       "      <td>0.061867</td>\n",
       "      <td>0.018061</td>\n",
       "    </tr>\n",
       "    <tr>\n",
       "      <th>min</th>\n",
       "      <td>8.670000e+03</td>\n",
       "      <td>NaN</td>\n",
       "      <td>6.981000</td>\n",
       "      <td>9.710000</td>\n",
       "      <td>43.790000</td>\n",
       "      <td>143.500000</td>\n",
       "      <td>0.052630</td>\n",
       "      <td>0.019380</td>\n",
       "      <td>0.000000</td>\n",
       "      <td>0.000000</td>\n",
       "      <td>...</td>\n",
       "      <td>7.930000</td>\n",
       "      <td>12.020000</td>\n",
       "      <td>50.410000</td>\n",
       "      <td>185.200000</td>\n",
       "      <td>0.071170</td>\n",
       "      <td>0.027290</td>\n",
       "      <td>0.000000</td>\n",
       "      <td>0.000000</td>\n",
       "      <td>0.156500</td>\n",
       "      <td>0.055040</td>\n",
       "    </tr>\n",
       "    <tr>\n",
       "      <th>25%</th>\n",
       "      <td>8.692180e+05</td>\n",
       "      <td>NaN</td>\n",
       "      <td>11.700000</td>\n",
       "      <td>16.170000</td>\n",
       "      <td>75.170000</td>\n",
       "      <td>420.300000</td>\n",
       "      <td>0.086370</td>\n",
       "      <td>0.064920</td>\n",
       "      <td>0.029560</td>\n",
       "      <td>0.020310</td>\n",
       "      <td>...</td>\n",
       "      <td>13.010000</td>\n",
       "      <td>21.080000</td>\n",
       "      <td>84.110000</td>\n",
       "      <td>515.300000</td>\n",
       "      <td>0.116600</td>\n",
       "      <td>0.147200</td>\n",
       "      <td>0.114500</td>\n",
       "      <td>0.064930</td>\n",
       "      <td>0.250400</td>\n",
       "      <td>0.071460</td>\n",
       "    </tr>\n",
       "    <tr>\n",
       "      <th>50%</th>\n",
       "      <td>9.060240e+05</td>\n",
       "      <td>NaN</td>\n",
       "      <td>13.370000</td>\n",
       "      <td>18.840000</td>\n",
       "      <td>86.240000</td>\n",
       "      <td>551.100000</td>\n",
       "      <td>0.095870</td>\n",
       "      <td>0.092630</td>\n",
       "      <td>0.061540</td>\n",
       "      <td>0.033500</td>\n",
       "      <td>...</td>\n",
       "      <td>14.970000</td>\n",
       "      <td>25.410000</td>\n",
       "      <td>97.660000</td>\n",
       "      <td>686.500000</td>\n",
       "      <td>0.131300</td>\n",
       "      <td>0.211900</td>\n",
       "      <td>0.226700</td>\n",
       "      <td>0.099930</td>\n",
       "      <td>0.282200</td>\n",
       "      <td>0.080040</td>\n",
       "    </tr>\n",
       "    <tr>\n",
       "      <th>75%</th>\n",
       "      <td>8.813129e+06</td>\n",
       "      <td>NaN</td>\n",
       "      <td>15.780000</td>\n",
       "      <td>21.800000</td>\n",
       "      <td>104.100000</td>\n",
       "      <td>782.700000</td>\n",
       "      <td>0.105300</td>\n",
       "      <td>0.130400</td>\n",
       "      <td>0.130700</td>\n",
       "      <td>0.074000</td>\n",
       "      <td>...</td>\n",
       "      <td>18.790000</td>\n",
       "      <td>29.720000</td>\n",
       "      <td>125.400000</td>\n",
       "      <td>1084.000000</td>\n",
       "      <td>0.146000</td>\n",
       "      <td>0.339100</td>\n",
       "      <td>0.382900</td>\n",
       "      <td>0.161400</td>\n",
       "      <td>0.317900</td>\n",
       "      <td>0.092080</td>\n",
       "    </tr>\n",
       "    <tr>\n",
       "      <th>max</th>\n",
       "      <td>9.113205e+08</td>\n",
       "      <td>NaN</td>\n",
       "      <td>28.110000</td>\n",
       "      <td>39.280000</td>\n",
       "      <td>188.500000</td>\n",
       "      <td>2501.000000</td>\n",
       "      <td>0.163400</td>\n",
       "      <td>0.345400</td>\n",
       "      <td>0.426800</td>\n",
       "      <td>0.201200</td>\n",
       "      <td>...</td>\n",
       "      <td>36.040000</td>\n",
       "      <td>49.540000</td>\n",
       "      <td>251.200000</td>\n",
       "      <td>4254.000000</td>\n",
       "      <td>0.222600</td>\n",
       "      <td>1.058000</td>\n",
       "      <td>1.252000</td>\n",
       "      <td>0.291000</td>\n",
       "      <td>0.663800</td>\n",
       "      <td>0.207500</td>\n",
       "    </tr>\n",
       "  </tbody>\n",
       "</table>\n",
       "<p>11 rows × 32 columns</p>\n",
       "</div>"
      ],
      "text/plain": [
       "                  ID diagnosis  radius_mean  radius_sd_error  radius_worst  \\\n",
       "count   5.690000e+02       569   569.000000       569.000000    569.000000   \n",
       "unique           NaN         2          NaN              NaN           NaN   \n",
       "top              NaN         B          NaN              NaN           NaN   \n",
       "freq             NaN       357          NaN              NaN           NaN   \n",
       "mean    3.037183e+07       NaN    14.127292        19.289649     91.969033   \n",
       "std     1.250206e+08       NaN     3.524049         4.301036     24.298981   \n",
       "min     8.670000e+03       NaN     6.981000         9.710000     43.790000   \n",
       "25%     8.692180e+05       NaN    11.700000        16.170000     75.170000   \n",
       "50%     9.060240e+05       NaN    13.370000        18.840000     86.240000   \n",
       "75%     8.813129e+06       NaN    15.780000        21.800000    104.100000   \n",
       "max     9.113205e+08       NaN    28.110000        39.280000    188.500000   \n",
       "\n",
       "        texture_mean  texture_sd_error  texture_worst  perimeter_mean  \\\n",
       "count     569.000000        569.000000     569.000000      569.000000   \n",
       "unique           NaN               NaN            NaN             NaN   \n",
       "top              NaN               NaN            NaN             NaN   \n",
       "freq             NaN               NaN            NaN             NaN   \n",
       "mean      654.889104          0.096360       0.104341        0.088799   \n",
       "std       351.914129          0.014064       0.052813        0.079720   \n",
       "min       143.500000          0.052630       0.019380        0.000000   \n",
       "25%       420.300000          0.086370       0.064920        0.029560   \n",
       "50%       551.100000          0.095870       0.092630        0.061540   \n",
       "75%       782.700000          0.105300       0.130400        0.130700   \n",
       "max      2501.000000          0.163400       0.345400        0.426800   \n",
       "\n",
       "        perimeter_sd_error           ...             concavity_worst  \\\n",
       "count           569.000000           ...                  569.000000   \n",
       "unique                 NaN           ...                         NaN   \n",
       "top                    NaN           ...                         NaN   \n",
       "freq                   NaN           ...                         NaN   \n",
       "mean              0.048919           ...                   16.269190   \n",
       "std               0.038803           ...                    4.833242   \n",
       "min               0.000000           ...                    7.930000   \n",
       "25%               0.020310           ...                   13.010000   \n",
       "50%               0.033500           ...                   14.970000   \n",
       "75%               0.074000           ...                   18.790000   \n",
       "max               0.201200           ...                   36.040000   \n",
       "\n",
       "        concave_points_mean  concave_points_sd_error  concave_points_worst  \\\n",
       "count            569.000000               569.000000            569.000000   \n",
       "unique                  NaN                      NaN                   NaN   \n",
       "top                     NaN                      NaN                   NaN   \n",
       "freq                    NaN                      NaN                   NaN   \n",
       "mean              25.677223               107.261213            880.583128   \n",
       "std                6.146258                33.602542            569.356993   \n",
       "min               12.020000                50.410000            185.200000   \n",
       "25%               21.080000                84.110000            515.300000   \n",
       "50%               25.410000                97.660000            686.500000   \n",
       "75%               29.720000               125.400000           1084.000000   \n",
       "max               49.540000               251.200000           4254.000000   \n",
       "\n",
       "        symmetry_mean  symmetry_sd_error  symmetry_worst  \\\n",
       "count      569.000000         569.000000      569.000000   \n",
       "unique            NaN                NaN             NaN   \n",
       "top               NaN                NaN             NaN   \n",
       "freq              NaN                NaN             NaN   \n",
       "mean         0.132369           0.254265        0.272188   \n",
       "std          0.022832           0.157336        0.208624   \n",
       "min          0.071170           0.027290        0.000000   \n",
       "25%          0.116600           0.147200        0.114500   \n",
       "50%          0.131300           0.211900        0.226700   \n",
       "75%          0.146000           0.339100        0.382900   \n",
       "max          0.222600           1.058000        1.252000   \n",
       "\n",
       "        fractal_dimension_mean  fractal_dimension_sd_error  \\\n",
       "count               569.000000                  569.000000   \n",
       "unique                     NaN                         NaN   \n",
       "top                        NaN                         NaN   \n",
       "freq                       NaN                         NaN   \n",
       "mean                  0.114606                    0.290076   \n",
       "std                   0.065732                    0.061867   \n",
       "min                   0.000000                    0.156500   \n",
       "25%                   0.064930                    0.250400   \n",
       "50%                   0.099930                    0.282200   \n",
       "75%                   0.161400                    0.317900   \n",
       "max                   0.291000                    0.663800   \n",
       "\n",
       "        fractal_dimension_worst  \n",
       "count                569.000000  \n",
       "unique                      NaN  \n",
       "top                         NaN  \n",
       "freq                        NaN  \n",
       "mean                   0.083946  \n",
       "std                    0.018061  \n",
       "min                    0.055040  \n",
       "25%                    0.071460  \n",
       "50%                    0.080040  \n",
       "75%                    0.092080  \n",
       "max                    0.207500  \n",
       "\n",
       "[11 rows x 32 columns]"
      ]
     },
     "execution_count": 3,
     "metadata": {},
     "output_type": "execute_result"
    }
   ],
   "source": [
    "df.describe(include='all')"
   ]
  },
  {
   "cell_type": "code",
   "execution_count": 4,
   "metadata": {
    "collapsed": true
   },
   "outputs": [
    {
     "data": {
      "text/plain": [
       "Index([u'ID', u'diagnosis', u'radius_mean', u'radius_sd_error',\n",
       "       u'radius_worst', u'texture_mean', u'texture_sd_error', u'texture_worst',\n",
       "       u'perimeter_mean', u'perimeter_sd_error', u'perimeter_worst',\n",
       "       u'area_mean', u'area_sd_error', u'area_worst', u'smoothness_mean',\n",
       "       u'smoothness_sd_error', u'smoothness_worst', u'compactness_mean',\n",
       "       u'compactness_sd_error', u'compactness_worst', u'concavity_mean',\n",
       "       u'concavity_sd_error', u'concavity_worst', u'concave_points_mean',\n",
       "       u'concave_points_sd_error', u'concave_points_worst', u'symmetry_mean',\n",
       "       u'symmetry_sd_error', u'symmetry_worst', u'fractal_dimension_mean',\n",
       "       u'fractal_dimension_sd_error', u'fractal_dimension_worst'],\n",
       "      dtype='object')"
      ]
     },
     "execution_count": 4,
     "metadata": {},
     "output_type": "execute_result"
    }
   ],
   "source": [
    "df.columns"
   ]
  },
  {
   "cell_type": "code",
   "execution_count": 5,
   "metadata": {
    "collapsed": true
   },
   "outputs": [],
   "source": [
    "def eda(dataframe):\n",
    "    \n",
    "    print \"Missing Values \\n \\n\", dataframe.isnull().sum(),\"\\n\"\n",
    "    print \"Duplicate Rows \\n\", dataframe.duplicated().sum(),\"\\n\" #Added this\n",
    "    print \"Dataframe Types \\n \\n\", dataframe.dtypes,\"\\n\"\n",
    "    print \"Dataframe Shape \\n\", dataframe.shape,\"\\n\"\n",
    "    print \"Dataframe Describe \\n \\n\", dataframe.describe(include='all'),\"\\n\"\n",
    "    for item in dataframe:\n",
    "        print item\n",
    "        print dataframe[item].nunique()"
   ]
  },
  {
   "cell_type": "code",
   "execution_count": 6,
   "metadata": {
    "collapsed": true
   },
   "outputs": [
    {
     "name": "stdout",
     "output_type": "stream",
     "text": [
      "Missing Values \n",
      " \n",
      "ID                            0\n",
      "diagnosis                     0\n",
      "radius_mean                   0\n",
      "radius_sd_error               0\n",
      "radius_worst                  0\n",
      "texture_mean                  0\n",
      "texture_sd_error              0\n",
      "texture_worst                 0\n",
      "perimeter_mean                0\n",
      "perimeter_sd_error            0\n",
      "perimeter_worst               0\n",
      "area_mean                     0\n",
      "area_sd_error                 0\n",
      "area_worst                    0\n",
      "smoothness_mean               0\n",
      "smoothness_sd_error           0\n",
      "smoothness_worst              0\n",
      "compactness_mean              0\n",
      "compactness_sd_error          0\n",
      "compactness_worst             0\n",
      "concavity_mean                0\n",
      "concavity_sd_error            0\n",
      "concavity_worst               0\n",
      "concave_points_mean           0\n",
      "concave_points_sd_error       0\n",
      "concave_points_worst          0\n",
      "symmetry_mean                 0\n",
      "symmetry_sd_error             0\n",
      "symmetry_worst                0\n",
      "fractal_dimension_mean        0\n",
      "fractal_dimension_sd_error    0\n",
      "fractal_dimension_worst       0\n",
      "dtype: int64 \n",
      "\n",
      "Duplicate Rows \n",
      "0 \n",
      "\n",
      "Dataframe Types \n",
      " \n",
      "ID                              int64\n",
      "diagnosis                      object\n",
      "radius_mean                   float64\n",
      "radius_sd_error               float64\n",
      "radius_worst                  float64\n",
      "texture_mean                  float64\n",
      "texture_sd_error              float64\n",
      "texture_worst                 float64\n",
      "perimeter_mean                float64\n",
      "perimeter_sd_error            float64\n",
      "perimeter_worst               float64\n",
      "area_mean                     float64\n",
      "area_sd_error                 float64\n",
      "area_worst                    float64\n",
      "smoothness_mean               float64\n",
      "smoothness_sd_error           float64\n",
      "smoothness_worst              float64\n",
      "compactness_mean              float64\n",
      "compactness_sd_error          float64\n",
      "compactness_worst             float64\n",
      "concavity_mean                float64\n",
      "concavity_sd_error            float64\n",
      "concavity_worst               float64\n",
      "concave_points_mean           float64\n",
      "concave_points_sd_error       float64\n",
      "concave_points_worst          float64\n",
      "symmetry_mean                 float64\n",
      "symmetry_sd_error             float64\n",
      "symmetry_worst                float64\n",
      "fractal_dimension_mean        float64\n",
      "fractal_dimension_sd_error    float64\n",
      "fractal_dimension_worst       float64\n",
      "dtype: object \n",
      "\n",
      "Dataframe Shape \n",
      "(569, 32) \n",
      "\n",
      "Dataframe Describe \n",
      " \n",
      "                  ID diagnosis  radius_mean  radius_sd_error  radius_worst  \\\n",
      "count   5.690000e+02       569   569.000000       569.000000    569.000000   \n",
      "unique           NaN         2          NaN              NaN           NaN   \n",
      "top              NaN         B          NaN              NaN           NaN   \n",
      "freq             NaN       357          NaN              NaN           NaN   \n",
      "mean    3.037183e+07       NaN    14.127292        19.289649     91.969033   \n",
      "std     1.250206e+08       NaN     3.524049         4.301036     24.298981   \n",
      "min     8.670000e+03       NaN     6.981000         9.710000     43.790000   \n",
      "25%     8.692180e+05       NaN    11.700000        16.170000     75.170000   \n",
      "50%     9.060240e+05       NaN    13.370000        18.840000     86.240000   \n",
      "75%     8.813129e+06       NaN    15.780000        21.800000    104.100000   \n",
      "max     9.113205e+08       NaN    28.110000        39.280000    188.500000   \n",
      "\n",
      "        texture_mean  texture_sd_error  texture_worst  perimeter_mean  \\\n",
      "count     569.000000        569.000000     569.000000      569.000000   \n",
      "unique           NaN               NaN            NaN             NaN   \n",
      "top              NaN               NaN            NaN             NaN   \n",
      "freq             NaN               NaN            NaN             NaN   \n",
      "mean      654.889104          0.096360       0.104341        0.088799   \n",
      "std       351.914129          0.014064       0.052813        0.079720   \n",
      "min       143.500000          0.052630       0.019380        0.000000   \n",
      "25%       420.300000          0.086370       0.064920        0.029560   \n",
      "50%       551.100000          0.095870       0.092630        0.061540   \n",
      "75%       782.700000          0.105300       0.130400        0.130700   \n",
      "max      2501.000000          0.163400       0.345400        0.426800   \n",
      "\n",
      "        perimeter_sd_error           ...             concavity_worst  \\\n",
      "count           569.000000           ...                  569.000000   \n",
      "unique                 NaN           ...                         NaN   \n",
      "top                    NaN           ...                         NaN   \n",
      "freq                   NaN           ...                         NaN   \n",
      "mean              0.048919           ...                   16.269190   \n",
      "std               0.038803           ...                    4.833242   \n",
      "min               0.000000           ...                    7.930000   \n",
      "25%               0.020310           ...                   13.010000   \n",
      "50%               0.033500           ...                   14.970000   \n",
      "75%               0.074000           ...                   18.790000   \n",
      "max               0.201200           ...                   36.040000   \n",
      "\n",
      "        concave_points_mean  concave_points_sd_error  concave_points_worst  \\\n",
      "count            569.000000               569.000000            569.000000   \n",
      "unique                  NaN                      NaN                   NaN   \n",
      "top                     NaN                      NaN                   NaN   \n",
      "freq                    NaN                      NaN                   NaN   \n",
      "mean              25.677223               107.261213            880.583128   \n",
      "std                6.146258                33.602542            569.356993   \n",
      "min               12.020000                50.410000            185.200000   \n",
      "25%               21.080000                84.110000            515.300000   \n",
      "50%               25.410000                97.660000            686.500000   \n",
      "75%               29.720000               125.400000           1084.000000   \n",
      "max               49.540000               251.200000           4254.000000   \n",
      "\n",
      "        symmetry_mean  symmetry_sd_error  symmetry_worst  \\\n",
      "count      569.000000         569.000000      569.000000   \n",
      "unique            NaN                NaN             NaN   \n",
      "top               NaN                NaN             NaN   \n",
      "freq              NaN                NaN             NaN   \n",
      "mean         0.132369           0.254265        0.272188   \n",
      "std          0.022832           0.157336        0.208624   \n",
      "min          0.071170           0.027290        0.000000   \n",
      "25%          0.116600           0.147200        0.114500   \n",
      "50%          0.131300           0.211900        0.226700   \n",
      "75%          0.146000           0.339100        0.382900   \n",
      "max          0.222600           1.058000        1.252000   \n",
      "\n",
      "        fractal_dimension_mean  fractal_dimension_sd_error  \\\n",
      "count               569.000000                  569.000000   \n",
      "unique                     NaN                         NaN   \n",
      "top                        NaN                         NaN   \n",
      "freq                       NaN                         NaN   \n",
      "mean                  0.114606                    0.290076   \n",
      "std                   0.065732                    0.061867   \n",
      "min                   0.000000                    0.156500   \n",
      "25%                   0.064930                    0.250400   \n",
      "50%                   0.099930                    0.282200   \n",
      "75%                   0.161400                    0.317900   \n",
      "max                   0.291000                    0.663800   \n",
      "\n",
      "        fractal_dimension_worst  \n",
      "count                569.000000  \n",
      "unique                      NaN  \n",
      "top                         NaN  \n",
      "freq                        NaN  \n",
      "mean                   0.083946  \n",
      "std                    0.018061  \n",
      "min                    0.055040  \n",
      "25%                    0.071460  \n",
      "50%                    0.080040  \n",
      "75%                    0.092080  \n",
      "max                    0.207500  \n",
      "\n",
      "[11 rows x 32 columns] \n",
      "\n",
      "ID\n",
      "569\n",
      "diagnosis\n",
      "2\n",
      "radius_mean\n",
      "456\n",
      "radius_sd_error\n",
      "479\n",
      "radius_worst\n",
      "522\n",
      "texture_mean\n",
      "539\n",
      "texture_sd_error\n",
      "474\n",
      "texture_worst\n",
      "537\n",
      "perimeter_mean\n",
      "537\n",
      "perimeter_sd_error\n",
      "542\n",
      "perimeter_worst\n",
      "432\n",
      "area_mean\n",
      "499\n",
      "area_sd_error\n",
      "540\n",
      "area_worst\n",
      "519\n",
      "smoothness_mean\n",
      "533\n",
      "smoothness_sd_error\n",
      "528\n",
      "smoothness_worst\n",
      "547\n",
      "compactness_mean\n",
      "541\n",
      "compactness_sd_error\n",
      "533\n",
      "compactness_worst\n",
      "507\n",
      "concavity_mean\n",
      "498\n",
      "concavity_sd_error\n",
      "545\n",
      "concavity_worst\n",
      "457\n",
      "concave_points_mean\n",
      "511\n",
      "concave_points_sd_error\n",
      "514\n",
      "concave_points_worst\n",
      "544\n",
      "symmetry_mean\n",
      "411\n",
      "symmetry_sd_error\n",
      "529\n",
      "symmetry_worst\n",
      "539\n",
      "fractal_dimension_mean\n",
      "492\n",
      "fractal_dimension_sd_error\n",
      "500\n",
      "fractal_dimension_worst\n",
      "535\n"
     ]
    }
   ],
   "source": [
    "eda(df)"
   ]
  },
  {
   "cell_type": "code",
   "execution_count": 259,
   "metadata": {
    "collapsed": true
   },
   "outputs": [
    {
     "data": {
      "text/plain": [
       "diagnosis                     0\n",
       "radius_mean                   0\n",
       "radius_sd_error               0\n",
       "radius_worst                  0\n",
       "texture_mean                  0\n",
       "texture_sd_error              0\n",
       "texture_worst                 0\n",
       "perimeter_mean                0\n",
       "perimeter_sd_error            0\n",
       "perimeter_worst               0\n",
       "area_mean                     0\n",
       "area_sd_error                 0\n",
       "area_worst                    0\n",
       "smoothness_mean               0\n",
       "smoothness_sd_error           0\n",
       "smoothness_worst              0\n",
       "compactness_mean              0\n",
       "compactness_sd_error          0\n",
       "compactness_worst             0\n",
       "concavity_mean                0\n",
       "concavity_sd_error            0\n",
       "concavity_worst               0\n",
       "concave_points_mean           0\n",
       "concave_points_sd_error       0\n",
       "concave_points_worst          0\n",
       "symmetry_mean                 0\n",
       "symmetry_sd_error             0\n",
       "symmetry_worst                0\n",
       "fractal_dimension_mean        0\n",
       "fractal_dimension_sd_error    0\n",
       "fractal_dimension_worst       0\n",
       "dtype: int64"
      ]
     },
     "execution_count": 259,
     "metadata": {},
     "output_type": "execute_result"
    }
   ],
   "source": [
    "df.isnull().sum()"
   ]
  },
  {
   "cell_type": "code",
   "execution_count": 7,
   "metadata": {
    "collapsed": false
   },
   "outputs": [
    {
     "data": {
      "text/plain": [
       "B    357\n",
       "M    212\n",
       "Name: diagnosis, dtype: int64"
      ]
     },
     "execution_count": 7,
     "metadata": {},
     "output_type": "execute_result"
    }
   ],
   "source": [
    "#Basically 60-40 split, so models won't be able to overpredict one value too much and still have a high accuracy score\n",
    "df.diagnosis.value_counts()"
   ]
  },
  {
   "cell_type": "markdown",
   "metadata": {
    "collapsed": true
   },
   "source": [
    "#### Steps to evaluate or transform dataset?\n",
    "\n",
    "* Transform: Normalize int and float values, map 'B' and 'M' to 0 and 1\n",
    "* Evaluate: EDA, look at nulls, see if values make sense (no crazy outliers, for example)"
   ]
  },
  {
   "cell_type": "code",
   "execution_count": 3,
   "metadata": {
    "collapsed": true
   },
   "outputs": [],
   "source": [
    "from IPython.display import display"
   ]
  },
  {
   "cell_type": "code",
   "execution_count": 5,
   "metadata": {
    "collapsed": false
   },
   "outputs": [
    {
     "data": {
      "text/html": [
       "<div>\n",
       "<table border=\"1\" class=\"dataframe\">\n",
       "  <thead>\n",
       "    <tr style=\"text-align: right;\">\n",
       "      <th></th>\n",
       "      <th>ID</th>\n",
       "      <th>diagnosis</th>\n",
       "      <th>radius_mean</th>\n",
       "      <th>radius_sd_error</th>\n",
       "      <th>radius_worst</th>\n",
       "      <th>texture_mean</th>\n",
       "      <th>texture_sd_error</th>\n",
       "      <th>texture_worst</th>\n",
       "      <th>perimeter_mean</th>\n",
       "      <th>perimeter_sd_error</th>\n",
       "      <th>perimeter_worst</th>\n",
       "      <th>area_mean</th>\n",
       "      <th>area_sd_error</th>\n",
       "      <th>area_worst</th>\n",
       "      <th>smoothness_mean</th>\n",
       "      <th>smoothness_sd_error</th>\n",
       "      <th>smoothness_worst</th>\n",
       "      <th>compactness_mean</th>\n",
       "      <th>compactness_sd_error</th>\n",
       "      <th>compactness_worst</th>\n",
       "      <th>concavity_mean</th>\n",
       "      <th>concavity_sd_error</th>\n",
       "      <th>concavity_worst</th>\n",
       "      <th>concave_points_mean</th>\n",
       "      <th>concave_points_sd_error</th>\n",
       "      <th>concave_points_worst</th>\n",
       "      <th>symmetry_mean</th>\n",
       "      <th>symmetry_sd_error</th>\n",
       "      <th>symmetry_worst</th>\n",
       "      <th>fractal_dimension_mean</th>\n",
       "      <th>fractal_dimension_sd_error</th>\n",
       "      <th>fractal_dimension_worst</th>\n",
       "    </tr>\n",
       "  </thead>\n",
       "  <tbody>\n",
       "    <tr>\n",
       "      <th>0</th>\n",
       "      <td>842302</td>\n",
       "      <td>M</td>\n",
       "      <td>17.99</td>\n",
       "      <td>10.38</td>\n",
       "      <td>122.80</td>\n",
       "      <td>1001.0</td>\n",
       "      <td>0.11840</td>\n",
       "      <td>0.27760</td>\n",
       "      <td>0.3001</td>\n",
       "      <td>0.14710</td>\n",
       "      <td>0.2419</td>\n",
       "      <td>0.07871</td>\n",
       "      <td>1.0950</td>\n",
       "      <td>0.9053</td>\n",
       "      <td>8.589</td>\n",
       "      <td>153.40</td>\n",
       "      <td>0.006399</td>\n",
       "      <td>0.04904</td>\n",
       "      <td>0.05373</td>\n",
       "      <td>0.01587</td>\n",
       "      <td>0.03003</td>\n",
       "      <td>0.006193</td>\n",
       "      <td>25.38</td>\n",
       "      <td>17.33</td>\n",
       "      <td>184.60</td>\n",
       "      <td>2019.0</td>\n",
       "      <td>0.1622</td>\n",
       "      <td>0.6656</td>\n",
       "      <td>0.7119</td>\n",
       "      <td>0.2654</td>\n",
       "      <td>0.4601</td>\n",
       "      <td>0.11890</td>\n",
       "    </tr>\n",
       "    <tr>\n",
       "      <th>1</th>\n",
       "      <td>842517</td>\n",
       "      <td>M</td>\n",
       "      <td>20.57</td>\n",
       "      <td>17.77</td>\n",
       "      <td>132.90</td>\n",
       "      <td>1326.0</td>\n",
       "      <td>0.08474</td>\n",
       "      <td>0.07864</td>\n",
       "      <td>0.0869</td>\n",
       "      <td>0.07017</td>\n",
       "      <td>0.1812</td>\n",
       "      <td>0.05667</td>\n",
       "      <td>0.5435</td>\n",
       "      <td>0.7339</td>\n",
       "      <td>3.398</td>\n",
       "      <td>74.08</td>\n",
       "      <td>0.005225</td>\n",
       "      <td>0.01308</td>\n",
       "      <td>0.01860</td>\n",
       "      <td>0.01340</td>\n",
       "      <td>0.01389</td>\n",
       "      <td>0.003532</td>\n",
       "      <td>24.99</td>\n",
       "      <td>23.41</td>\n",
       "      <td>158.80</td>\n",
       "      <td>1956.0</td>\n",
       "      <td>0.1238</td>\n",
       "      <td>0.1866</td>\n",
       "      <td>0.2416</td>\n",
       "      <td>0.1860</td>\n",
       "      <td>0.2750</td>\n",
       "      <td>0.08902</td>\n",
       "    </tr>\n",
       "    <tr>\n",
       "      <th>2</th>\n",
       "      <td>84300903</td>\n",
       "      <td>M</td>\n",
       "      <td>19.69</td>\n",
       "      <td>21.25</td>\n",
       "      <td>130.00</td>\n",
       "      <td>1203.0</td>\n",
       "      <td>0.10960</td>\n",
       "      <td>0.15990</td>\n",
       "      <td>0.1974</td>\n",
       "      <td>0.12790</td>\n",
       "      <td>0.2069</td>\n",
       "      <td>0.05999</td>\n",
       "      <td>0.7456</td>\n",
       "      <td>0.7869</td>\n",
       "      <td>4.585</td>\n",
       "      <td>94.03</td>\n",
       "      <td>0.006150</td>\n",
       "      <td>0.04006</td>\n",
       "      <td>0.03832</td>\n",
       "      <td>0.02058</td>\n",
       "      <td>0.02250</td>\n",
       "      <td>0.004571</td>\n",
       "      <td>23.57</td>\n",
       "      <td>25.53</td>\n",
       "      <td>152.50</td>\n",
       "      <td>1709.0</td>\n",
       "      <td>0.1444</td>\n",
       "      <td>0.4245</td>\n",
       "      <td>0.4504</td>\n",
       "      <td>0.2430</td>\n",
       "      <td>0.3613</td>\n",
       "      <td>0.08758</td>\n",
       "    </tr>\n",
       "    <tr>\n",
       "      <th>3</th>\n",
       "      <td>84348301</td>\n",
       "      <td>M</td>\n",
       "      <td>11.42</td>\n",
       "      <td>20.38</td>\n",
       "      <td>77.58</td>\n",
       "      <td>386.1</td>\n",
       "      <td>0.14250</td>\n",
       "      <td>0.28390</td>\n",
       "      <td>0.2414</td>\n",
       "      <td>0.10520</td>\n",
       "      <td>0.2597</td>\n",
       "      <td>0.09744</td>\n",
       "      <td>0.4956</td>\n",
       "      <td>1.1560</td>\n",
       "      <td>3.445</td>\n",
       "      <td>27.23</td>\n",
       "      <td>0.009110</td>\n",
       "      <td>0.07458</td>\n",
       "      <td>0.05661</td>\n",
       "      <td>0.01867</td>\n",
       "      <td>0.05963</td>\n",
       "      <td>0.009208</td>\n",
       "      <td>14.91</td>\n",
       "      <td>26.50</td>\n",
       "      <td>98.87</td>\n",
       "      <td>567.7</td>\n",
       "      <td>0.2098</td>\n",
       "      <td>0.8663</td>\n",
       "      <td>0.6869</td>\n",
       "      <td>0.2575</td>\n",
       "      <td>0.6638</td>\n",
       "      <td>0.17300</td>\n",
       "    </tr>\n",
       "    <tr>\n",
       "      <th>4</th>\n",
       "      <td>84358402</td>\n",
       "      <td>M</td>\n",
       "      <td>20.29</td>\n",
       "      <td>14.34</td>\n",
       "      <td>135.10</td>\n",
       "      <td>1297.0</td>\n",
       "      <td>0.10030</td>\n",
       "      <td>0.13280</td>\n",
       "      <td>0.1980</td>\n",
       "      <td>0.10430</td>\n",
       "      <td>0.1809</td>\n",
       "      <td>0.05883</td>\n",
       "      <td>0.7572</td>\n",
       "      <td>0.7813</td>\n",
       "      <td>5.438</td>\n",
       "      <td>94.44</td>\n",
       "      <td>0.011490</td>\n",
       "      <td>0.02461</td>\n",
       "      <td>0.05688</td>\n",
       "      <td>0.01885</td>\n",
       "      <td>0.01756</td>\n",
       "      <td>0.005115</td>\n",
       "      <td>22.54</td>\n",
       "      <td>16.67</td>\n",
       "      <td>152.20</td>\n",
       "      <td>1575.0</td>\n",
       "      <td>0.1374</td>\n",
       "      <td>0.2050</td>\n",
       "      <td>0.4000</td>\n",
       "      <td>0.1625</td>\n",
       "      <td>0.2364</td>\n",
       "      <td>0.07678</td>\n",
       "    </tr>\n",
       "  </tbody>\n",
       "</table>\n",
       "</div>"
      ],
      "text/plain": [
       "         ID diagnosis  radius_mean  radius_sd_error  radius_worst  \\\n",
       "0    842302         M        17.99            10.38        122.80   \n",
       "1    842517         M        20.57            17.77        132.90   \n",
       "2  84300903         M        19.69            21.25        130.00   \n",
       "3  84348301         M        11.42            20.38         77.58   \n",
       "4  84358402         M        20.29            14.34        135.10   \n",
       "\n",
       "   texture_mean  texture_sd_error  texture_worst  perimeter_mean  \\\n",
       "0        1001.0           0.11840        0.27760          0.3001   \n",
       "1        1326.0           0.08474        0.07864          0.0869   \n",
       "2        1203.0           0.10960        0.15990          0.1974   \n",
       "3         386.1           0.14250        0.28390          0.2414   \n",
       "4        1297.0           0.10030        0.13280          0.1980   \n",
       "\n",
       "   perimeter_sd_error  perimeter_worst  area_mean  area_sd_error  area_worst  \\\n",
       "0             0.14710           0.2419    0.07871         1.0950      0.9053   \n",
       "1             0.07017           0.1812    0.05667         0.5435      0.7339   \n",
       "2             0.12790           0.2069    0.05999         0.7456      0.7869   \n",
       "3             0.10520           0.2597    0.09744         0.4956      1.1560   \n",
       "4             0.10430           0.1809    0.05883         0.7572      0.7813   \n",
       "\n",
       "   smoothness_mean  smoothness_sd_error  smoothness_worst  compactness_mean  \\\n",
       "0            8.589               153.40          0.006399           0.04904   \n",
       "1            3.398                74.08          0.005225           0.01308   \n",
       "2            4.585                94.03          0.006150           0.04006   \n",
       "3            3.445                27.23          0.009110           0.07458   \n",
       "4            5.438                94.44          0.011490           0.02461   \n",
       "\n",
       "   compactness_sd_error  compactness_worst  concavity_mean  \\\n",
       "0               0.05373            0.01587         0.03003   \n",
       "1               0.01860            0.01340         0.01389   \n",
       "2               0.03832            0.02058         0.02250   \n",
       "3               0.05661            0.01867         0.05963   \n",
       "4               0.05688            0.01885         0.01756   \n",
       "\n",
       "   concavity_sd_error  concavity_worst  concave_points_mean  \\\n",
       "0            0.006193            25.38                17.33   \n",
       "1            0.003532            24.99                23.41   \n",
       "2            0.004571            23.57                25.53   \n",
       "3            0.009208            14.91                26.50   \n",
       "4            0.005115            22.54                16.67   \n",
       "\n",
       "   concave_points_sd_error  concave_points_worst  symmetry_mean  \\\n",
       "0                   184.60                2019.0         0.1622   \n",
       "1                   158.80                1956.0         0.1238   \n",
       "2                   152.50                1709.0         0.1444   \n",
       "3                    98.87                 567.7         0.2098   \n",
       "4                   152.20                1575.0         0.1374   \n",
       "\n",
       "   symmetry_sd_error  symmetry_worst  fractal_dimension_mean  \\\n",
       "0             0.6656          0.7119                  0.2654   \n",
       "1             0.1866          0.2416                  0.1860   \n",
       "2             0.4245          0.4504                  0.2430   \n",
       "3             0.8663          0.6869                  0.2575   \n",
       "4             0.2050          0.4000                  0.1625   \n",
       "\n",
       "   fractal_dimension_sd_error  fractal_dimension_worst  \n",
       "0                      0.4601                  0.11890  \n",
       "1                      0.2750                  0.08902  \n",
       "2                      0.3613                  0.08758  \n",
       "3                      0.6638                  0.17300  \n",
       "4                      0.2364                  0.07678  "
      ]
     },
     "metadata": {},
     "output_type": "display_data"
    }
   ],
   "source": [
    "#Show all columns\n",
    "with pd.option_context('display.max_columns', None):\n",
    "    display(df.head())"
   ]
  },
  {
   "cell_type": "code",
   "execution_count": 8,
   "metadata": {
    "collapsed": true
   },
   "outputs": [],
   "source": [
    "#Separate data into malignant and benign, the calculate the mean and median for \n",
    "#the smoothness_mean and compactness_mean columns\n",
    "\n",
    "columns = ['smoothness_mean','compactness_mean']\n",
    "\n",
    "mal_vals = {}\n",
    "ben_vals = {}\n",
    "\n",
    "mal_vals['mal_smooth_mean'] = df[df.diagnosis == 'M'].smoothness_mean.mean()\n",
    "mal_vals['mal_smooth_med'] = df[df.diagnosis == 'M'].smoothness_mean.median()\n",
    "mal_vals['mal_comp_mean'] = df[df.diagnosis == 'M'].compactness_mean.mean()\n",
    "mal_vals['mal_comp_med'] = df[df.diagnosis == 'M'].compactness_mean.median()\n",
    "ben_vals['ben_smooth_mean'] = df[df.diagnosis == 'B'].smoothness_mean.mean()\n",
    "ben_vals['ben_smooth_med'] = df[df.diagnosis == 'B'].smoothness_mean.median()\n",
    "ben_vals['ben_comp_mean'] = df[df.diagnosis == 'B'].compactness_mean.mean()\n",
    "ben_vals['ben_comp_med'] = df[df.diagnosis == 'B'].compactness_mean.median()"
   ]
  },
  {
   "cell_type": "code",
   "execution_count": 5,
   "metadata": {
    "collapsed": false
   },
   "outputs": [
    {
     "data": {
      "text/plain": [
       "{'mal_comp_mean': 0.03228116509433961,\n",
       " 'mal_comp_med': 0.02859,\n",
       " 'mal_smooth_mean': 4.323929245283021,\n",
       " 'mal_smooth_med': 3.6795}"
      ]
     },
     "execution_count": 5,
     "metadata": {},
     "output_type": "execute_result"
    }
   ],
   "source": [
    "mal_vals"
   ]
  },
  {
   "cell_type": "code",
   "execution_count": 9,
   "metadata": {
    "collapsed": false
   },
   "outputs": [
    {
     "data": {
      "text/plain": [
       "{'ben_comp_mean': 0.02143824649859945,\n",
       " 'ben_comp_med': 0.016309999999999998,\n",
       " 'ben_smooth_mean': 2.0003212885154085,\n",
       " 'ben_smooth_med': 1.851}"
      ]
     },
     "execution_count": 9,
     "metadata": {},
     "output_type": "execute_result"
    }
   ],
   "source": [
    "ben_vals"
   ]
  },
  {
   "cell_type": "markdown",
   "metadata": {},
   "source": [
    "Clearly the benign and maliganant observations have different means and medians, but whether or not these differences are significant is unknown. To assess whether the values differed significantly, I would do a t-test comparing the malignant values' means to the benign values's means. My null hypothesis will be that they do not differ, and my alternative hypothesis will be that they do differ. To compare the medians, I would do a non-parametric bootstrap sampling of the benign values and compare the malignant values to the confidence interval generated through bootstrapping."
   ]
  },
  {
   "cell_type": "code",
   "execution_count": 10,
   "metadata": {
    "collapsed": false
   },
   "outputs": [],
   "source": [
    "benign_df = df[df.diagnosis == 'B']\n",
    "malignant_df = df[df.diagnosis == 'M']"
   ]
  },
  {
   "cell_type": "code",
   "execution_count": null,
   "metadata": {
    "collapsed": true
   },
   "outputs": [],
   "source": [
    "# Bootstrapping: This function takes a given column of data and a given statistic and generates a bootstrapped distribution \n",
    "# of that statistic's values\n",
    "def bootstrap(data, stat, iterations=1000):\n",
    "    bootstraps=[] #Empty list where bootstrapped samples will go\n",
    "    for i in range(iterations): #perform certain number of bootstraps\n",
    "        sample = np.random.choice(data,size=len(data),replace=True) \n",
    "        sample_stat = stat(sample)\n",
    "        bootstraps.append(sample_stat)\n",
    "\n",
    "    return bootstraps"
   ]
  },
  {
   "cell_type": "code",
   "execution_count": 47,
   "metadata": {
    "collapsed": false
   },
   "outputs": [],
   "source": [
    "df['diagnosis'] = df.diagnosis.map({'B':0, 'M':1})"
   ]
  },
  {
   "cell_type": "code",
   "execution_count": 44,
   "metadata": {
    "collapsed": false
   },
   "outputs": [],
   "source": [
    "#No need to keep the ID column\n",
    "df.drop('ID',axis=1,inplace=True)"
   ]
  },
  {
   "cell_type": "code",
   "execution_count": 51,
   "metadata": {
    "collapsed": false
   },
   "outputs": [
    {
     "data": {
      "text/html": [
       "<div>\n",
       "<table border=\"1\" class=\"dataframe\">\n",
       "  <thead>\n",
       "    <tr style=\"text-align: right;\">\n",
       "      <th></th>\n",
       "      <th>diagnosis</th>\n",
       "      <th>radius_mean</th>\n",
       "      <th>radius_sd_error</th>\n",
       "      <th>radius_worst</th>\n",
       "      <th>texture_mean</th>\n",
       "      <th>texture_sd_error</th>\n",
       "      <th>texture_worst</th>\n",
       "      <th>perimeter_mean</th>\n",
       "      <th>perimeter_sd_error</th>\n",
       "      <th>perimeter_worst</th>\n",
       "      <th>area_mean</th>\n",
       "      <th>area_sd_error</th>\n",
       "      <th>area_worst</th>\n",
       "      <th>smoothness_mean</th>\n",
       "      <th>smoothness_sd_error</th>\n",
       "      <th>smoothness_worst</th>\n",
       "      <th>compactness_mean</th>\n",
       "      <th>compactness_sd_error</th>\n",
       "      <th>compactness_worst</th>\n",
       "      <th>concavity_mean</th>\n",
       "      <th>concavity_sd_error</th>\n",
       "      <th>concavity_worst</th>\n",
       "      <th>concave_points_mean</th>\n",
       "      <th>concave_points_sd_error</th>\n",
       "      <th>concave_points_worst</th>\n",
       "      <th>symmetry_mean</th>\n",
       "      <th>symmetry_sd_error</th>\n",
       "      <th>symmetry_worst</th>\n",
       "      <th>fractal_dimension_mean</th>\n",
       "      <th>fractal_dimension_sd_error</th>\n",
       "      <th>fractal_dimension_worst</th>\n",
       "    </tr>\n",
       "  </thead>\n",
       "  <tbody>\n",
       "    <tr>\n",
       "      <th>0</th>\n",
       "      <td>1</td>\n",
       "      <td>17.99</td>\n",
       "      <td>10.38</td>\n",
       "      <td>122.8</td>\n",
       "      <td>1001.0</td>\n",
       "      <td>0.1184</td>\n",
       "      <td>0.2776</td>\n",
       "      <td>0.3001</td>\n",
       "      <td>0.1471</td>\n",
       "      <td>0.2419</td>\n",
       "      <td>0.07871</td>\n",
       "      <td>1.095</td>\n",
       "      <td>0.9053</td>\n",
       "      <td>8.589</td>\n",
       "      <td>153.4</td>\n",
       "      <td>0.006399</td>\n",
       "      <td>0.04904</td>\n",
       "      <td>0.05373</td>\n",
       "      <td>0.01587</td>\n",
       "      <td>0.03003</td>\n",
       "      <td>0.006193</td>\n",
       "      <td>25.38</td>\n",
       "      <td>17.33</td>\n",
       "      <td>184.6</td>\n",
       "      <td>2019.0</td>\n",
       "      <td>0.1622</td>\n",
       "      <td>0.6656</td>\n",
       "      <td>0.7119</td>\n",
       "      <td>0.2654</td>\n",
       "      <td>0.4601</td>\n",
       "      <td>0.1189</td>\n",
       "    </tr>\n",
       "  </tbody>\n",
       "</table>\n",
       "</div>"
      ],
      "text/plain": [
       "   diagnosis  radius_mean  radius_sd_error  radius_worst  texture_mean  \\\n",
       "0          1        17.99            10.38         122.8        1001.0   \n",
       "\n",
       "   texture_sd_error  texture_worst  perimeter_mean  perimeter_sd_error  \\\n",
       "0            0.1184         0.2776          0.3001              0.1471   \n",
       "\n",
       "   perimeter_worst  area_mean  area_sd_error  area_worst  smoothness_mean  \\\n",
       "0           0.2419    0.07871          1.095      0.9053            8.589   \n",
       "\n",
       "   smoothness_sd_error  smoothness_worst  compactness_mean  \\\n",
       "0                153.4          0.006399           0.04904   \n",
       "\n",
       "   compactness_sd_error  compactness_worst  concavity_mean  \\\n",
       "0               0.05373            0.01587         0.03003   \n",
       "\n",
       "   concavity_sd_error  concavity_worst  concave_points_mean  \\\n",
       "0            0.006193            25.38                17.33   \n",
       "\n",
       "   concave_points_sd_error  concave_points_worst  symmetry_mean  \\\n",
       "0                    184.6                2019.0         0.1622   \n",
       "\n",
       "   symmetry_sd_error  symmetry_worst  fractal_dimension_mean  \\\n",
       "0             0.6656          0.7119                  0.2654   \n",
       "\n",
       "   fractal_dimension_sd_error  fractal_dimension_worst  \n",
       "0                      0.4601                   0.1189  "
      ]
     },
     "metadata": {},
     "output_type": "display_data"
    }
   ],
   "source": [
    "with pd.option_context('display.max_columns', None):\n",
    "    display(df.head().head(1))"
   ]
  },
  {
   "cell_type": "code",
   "execution_count": 186,
   "metadata": {
    "collapsed": false
   },
   "outputs": [
    {
     "data": {
      "text/html": [
       "<div>\n",
       "<table border=\"1\" class=\"dataframe\">\n",
       "  <thead>\n",
       "    <tr style=\"text-align: right;\">\n",
       "      <th></th>\n",
       "      <th>diagnosis</th>\n",
       "      <th>radius_mean</th>\n",
       "      <th>radius_sd_error</th>\n",
       "      <th>radius_worst</th>\n",
       "      <th>texture_mean</th>\n",
       "      <th>texture_sd_error</th>\n",
       "      <th>texture_worst</th>\n",
       "      <th>perimeter_mean</th>\n",
       "      <th>perimeter_sd_error</th>\n",
       "      <th>perimeter_worst</th>\n",
       "      <th>area_mean</th>\n",
       "      <th>area_sd_error</th>\n",
       "      <th>area_worst</th>\n",
       "      <th>smoothness_mean</th>\n",
       "      <th>smoothness_sd_error</th>\n",
       "      <th>smoothness_worst</th>\n",
       "      <th>compactness_mean</th>\n",
       "      <th>compactness_sd_error</th>\n",
       "      <th>compactness_worst</th>\n",
       "      <th>concavity_mean</th>\n",
       "      <th>concavity_sd_error</th>\n",
       "      <th>concavity_worst</th>\n",
       "      <th>concave_points_mean</th>\n",
       "      <th>concave_points_sd_error</th>\n",
       "      <th>concave_points_worst</th>\n",
       "      <th>symmetry_mean</th>\n",
       "      <th>symmetry_sd_error</th>\n",
       "      <th>symmetry_worst</th>\n",
       "      <th>fractal_dimension_mean</th>\n",
       "      <th>fractal_dimension_sd_error</th>\n",
       "      <th>fractal_dimension_worst</th>\n",
       "    </tr>\n",
       "  </thead>\n",
       "  <tbody>\n",
       "    <tr>\n",
       "      <th>diagnosis</th>\n",
       "      <td>1.0</td>\n",
       "      <td>0.730029</td>\n",
       "      <td>0.415185</td>\n",
       "      <td>0.742636</td>\n",
       "      <td>0.708984</td>\n",
       "      <td>0.35856</td>\n",
       "      <td>0.596534</td>\n",
       "      <td>0.69636</td>\n",
       "      <td>0.776614</td>\n",
       "      <td>0.330499</td>\n",
       "      <td>-0.012838</td>\n",
       "      <td>0.567134</td>\n",
       "      <td>-0.008303</td>\n",
       "      <td>0.556141</td>\n",
       "      <td>0.548236</td>\n",
       "      <td>-0.067016</td>\n",
       "      <td>0.292999</td>\n",
       "      <td>0.25373</td>\n",
       "      <td>0.408042</td>\n",
       "      <td>-0.006522</td>\n",
       "      <td>0.077972</td>\n",
       "      <td>0.776454</td>\n",
       "      <td>0.456903</td>\n",
       "      <td>0.782914</td>\n",
       "      <td>0.733825</td>\n",
       "      <td>0.421465</td>\n",
       "      <td>0.590998</td>\n",
       "      <td>0.65961</td>\n",
       "      <td>0.793566</td>\n",
       "      <td>0.416294</td>\n",
       "      <td>0.323872</td>\n",
       "    </tr>\n",
       "  </tbody>\n",
       "</table>\n",
       "</div>"
      ],
      "text/plain": [
       "           diagnosis  radius_mean  radius_sd_error  radius_worst  \\\n",
       "diagnosis        1.0     0.730029         0.415185      0.742636   \n",
       "\n",
       "           texture_mean  texture_sd_error  texture_worst  perimeter_mean  \\\n",
       "diagnosis      0.708984           0.35856       0.596534         0.69636   \n",
       "\n",
       "           perimeter_sd_error  perimeter_worst  area_mean  area_sd_error  \\\n",
       "diagnosis            0.776614         0.330499  -0.012838       0.567134   \n",
       "\n",
       "           area_worst  smoothness_mean  smoothness_sd_error  smoothness_worst  \\\n",
       "diagnosis   -0.008303         0.556141             0.548236         -0.067016   \n",
       "\n",
       "           compactness_mean  compactness_sd_error  compactness_worst  \\\n",
       "diagnosis          0.292999               0.25373           0.408042   \n",
       "\n",
       "           concavity_mean  concavity_sd_error  concavity_worst  \\\n",
       "diagnosis       -0.006522            0.077972         0.776454   \n",
       "\n",
       "           concave_points_mean  concave_points_sd_error  concave_points_worst  \\\n",
       "diagnosis             0.456903                 0.782914              0.733825   \n",
       "\n",
       "           symmetry_mean  symmetry_sd_error  symmetry_worst  \\\n",
       "diagnosis       0.421465           0.590998         0.65961   \n",
       "\n",
       "           fractal_dimension_mean  fractal_dimension_sd_error  \\\n",
       "diagnosis                0.793566                    0.416294   \n",
       "\n",
       "           fractal_dimension_worst  \n",
       "diagnosis                 0.323872  "
      ]
     },
     "metadata": {},
     "output_type": "display_data"
    }
   ],
   "source": [
    "#Look at each feature's correlation with the diagnosis\n",
    "with pd.option_context('display.max_columns', None):\n",
    "    display(df.corr().head(1))"
   ]
  },
  {
   "cell_type": "code",
   "execution_count": 54,
   "metadata": {
    "collapsed": false
   },
   "outputs": [
    {
     "data": {
      "text/plain": [
       "diagnosis                     1.000000\n",
       "fractal_dimension_mean        0.793566\n",
       "concave_points_sd_error       0.782914\n",
       "perimeter_sd_error            0.776614\n",
       "concavity_worst               0.776454\n",
       "radius_worst                  0.742636\n",
       "concave_points_worst          0.733825\n",
       "radius_mean                   0.730029\n",
       "texture_mean                  0.708984\n",
       "perimeter_mean                0.696360\n",
       "symmetry_worst                0.659610\n",
       "texture_worst                 0.596534\n",
       "symmetry_sd_error             0.590998\n",
       "area_sd_error                 0.567134\n",
       "smoothness_mean               0.556141\n",
       "smoothness_sd_error           0.548236\n",
       "concave_points_mean           0.456903\n",
       "symmetry_mean                 0.421465\n",
       "fractal_dimension_sd_error    0.416294\n",
       "radius_sd_error               0.415185\n",
       "compactness_worst             0.408042\n",
       "texture_sd_error              0.358560\n",
       "perimeter_worst               0.330499\n",
       "fractal_dimension_worst       0.323872\n",
       "compactness_mean              0.292999\n",
       "compactness_sd_error          0.253730\n",
       "concavity_sd_error            0.077972\n",
       "concavity_mean               -0.006522\n",
       "area_worst                   -0.008303\n",
       "area_mean                    -0.012838\n",
       "smoothness_worst             -0.067016\n",
       "Name: diagnosis, dtype: float64"
      ]
     },
     "execution_count": 54,
     "metadata": {},
     "output_type": "execute_result"
    }
   ],
   "source": [
    "df.corr().loc['diagnosis'].sort_values(ascending=False)"
   ]
  },
  {
   "cell_type": "markdown",
   "metadata": {},
   "source": [
    "Seems that fractal_dimension_mean, concave_points_sd_error, and perimiter_sd_error might be predictive of a malignant tumor. A correlation heatmap is below to visualize the correlation of diagnosis with each feature."
   ]
  },
  {
   "cell_type": "code",
   "execution_count": 32,
   "metadata": {
    "collapsed": true
   },
   "outputs": [],
   "source": [
    "import seaborn as sns\n",
    "import seaborn.linearmodels as snslm"
   ]
  },
  {
   "cell_type": "code",
   "execution_count": 216,
   "metadata": {
    "collapsed": false
   },
   "outputs": [
    {
     "data": {
      "image/png": "[encoded data removed]",
      "text/plain": [
       "<matplotlib.figure.Figure at 0x117705c10>"
      ]
     },
     "metadata": {},
     "output_type": "display_data"
    }
   ],
   "source": [
    "sns.heatmap(df.corr().head(1))\n",
    "plt.show()"
   ]
  },
  {
   "cell_type": "markdown",
   "metadata": {},
   "source": [
    "### Classifier Number 1: Logistic Regression"
   ]
  },
  {
   "cell_type": "code",
   "execution_count": 70,
   "metadata": {
    "collapsed": false
   },
   "outputs": [],
   "source": [
    "from sklearn.linear_model import LogisticRegression\n",
    "from sklearn.preprocessing import StandardScaler  \n",
    "from sklearn.model_selection import train_test_split, cross_val_score, cross_val_predict\n",
    "from sklearn import metrics"
   ]
  },
  {
   "cell_type": "code",
   "execution_count": 93,
   "metadata": {
    "collapsed": false
   },
   "outputs": [],
   "source": [
    "#Assign Xs and Ys\n",
    "X = df.drop('diagnosis',axis=1)\n",
    "X_norm =  StandardScaler().fit_transform(X) #Normalize so some features don't outweigh others\n",
    "y = df['diagnosis']\n",
    "X_train, X_test, y_train, y_test = train_test_split(X_norm, y, test_size = 0.3)"
   ]
  },
  {
   "cell_type": "code",
   "execution_count": 94,
   "metadata": {
    "collapsed": false
   },
   "outputs": [
    {
     "data": {
      "text/plain": [
       "LogisticRegression(C=1.0, class_weight=None, dual=False, fit_intercept=True,\n",
       "          intercept_scaling=1, max_iter=100, multi_class='ovr', n_jobs=1,\n",
       "          penalty='l1', random_state=None, solver='liblinear', tol=0.0001,\n",
       "          verbose=0, warm_start=False)"
      ]
     },
     "execution_count": 94,
     "metadata": {},
     "output_type": "execute_result"
    }
   ],
   "source": [
    "logit = LogisticRegression(penalty='l1') #Use l1 to be more severe since there are a lot of similar features\n",
    "logit.fit(X_train, y_train)"
   ]
  },
  {
   "cell_type": "code",
   "execution_count": 95,
   "metadata": {
    "collapsed": false
   },
   "outputs": [
    {
     "name": "stdout",
     "output_type": "stream",
     "text": [
      "Cross-validated scores: [ 1.          1.          0.975       0.95        0.925       0.975       1.\n",
      "  1.          0.97435897  0.92307692]\n"
     ]
    }
   ],
   "source": [
    "scores = cross_val_score(logit, X_train, y_train, cv=10)\n",
    "print \"Cross-validated scores:\", scores"
   ]
  },
  {
   "cell_type": "code",
   "execution_count": 97,
   "metadata": {
    "collapsed": true
   },
   "outputs": [],
   "source": [
    "predictions = logit.predict(X_test)"
   ]
  },
  {
   "cell_type": "code",
   "execution_count": 98,
   "metadata": {
    "collapsed": false,
    "scrolled": true
   },
   "outputs": [
    {
     "name": "stdout",
     "output_type": "stream",
     "text": [
      "             precision    recall  f1-score   support\n",
      "\n",
      "          0       0.96      1.00      0.98       111\n",
      "          1       1.00      0.92      0.96        60\n",
      "\n",
      "avg / total       0.97      0.97      0.97       171\n",
      "\n"
     ]
    }
   ],
   "source": [
    "print metrics.classification_report(y_test, predictions)"
   ]
  },
  {
   "cell_type": "code",
   "execution_count": 163,
   "metadata": {
    "collapsed": false
   },
   "outputs": [
    {
     "name": "stdout",
     "output_type": "stream",
     "text": [
      "0.958333333333\n"
     ]
    }
   ],
   "source": [
    "print metrics.roc_auc_score(y_test, predictions)"
   ]
  },
  {
   "cell_type": "code",
   "execution_count": 171,
   "metadata": {
    "collapsed": false
   },
   "outputs": [
    {
     "name": "stdout",
     "output_type": "stream",
     "text": [
      "0.916666666667\n"
     ]
    }
   ],
   "source": [
    "print metrics.recall_score(y_test, predictions)"
   ]
  },
  {
   "cell_type": "code",
   "execution_count": 167,
   "metadata": {
    "collapsed": false
   },
   "outputs": [
    {
     "data": {
      "text/html": [
       "<div>\n",
       "<table border=\"1\" class=\"dataframe\">\n",
       "  <thead>\n",
       "    <tr style=\"text-align: right;\">\n",
       "      <th></th>\n",
       "      <th>Importance</th>\n",
       "    </tr>\n",
       "  </thead>\n",
       "  <tbody>\n",
       "    <tr>\n",
       "      <th>concave_points_worst</th>\n",
       "      <td>2.577622</td>\n",
       "    </tr>\n",
       "    <tr>\n",
       "      <th>area_sd_error</th>\n",
       "      <td>2.244816</td>\n",
       "    </tr>\n",
       "    <tr>\n",
       "      <th>concave_points_sd_error</th>\n",
       "      <td>1.910407</td>\n",
       "    </tr>\n",
       "    <tr>\n",
       "      <th>perimeter_sd_error</th>\n",
       "      <td>1.225849</td>\n",
       "    </tr>\n",
       "    <tr>\n",
       "      <th>concave_points_mean</th>\n",
       "      <td>1.182376</td>\n",
       "    </tr>\n",
       "    <tr>\n",
       "      <th>symmetry_worst</th>\n",
       "      <td>0.909230</td>\n",
       "    </tr>\n",
       "    <tr>\n",
       "      <th>fractal_dimension_mean</th>\n",
       "      <td>0.819194</td>\n",
       "    </tr>\n",
       "    <tr>\n",
       "      <th>symmetry_mean</th>\n",
       "      <td>0.526121</td>\n",
       "    </tr>\n",
       "    <tr>\n",
       "      <th>fractal_dimension_sd_error</th>\n",
       "      <td>0.495557</td>\n",
       "    </tr>\n",
       "    <tr>\n",
       "      <th>smoothness_worst</th>\n",
       "      <td>0.254107</td>\n",
       "    </tr>\n",
       "    <tr>\n",
       "      <th>fractal_dimension_worst</th>\n",
       "      <td>0.038761</td>\n",
       "    </tr>\n",
       "    <tr>\n",
       "      <th>perimeter_mean</th>\n",
       "      <td>0.032328</td>\n",
       "    </tr>\n",
       "    <tr>\n",
       "      <th>compactness_worst</th>\n",
       "      <td>0.000000</td>\n",
       "    </tr>\n",
       "    <tr>\n",
       "      <th>symmetry_sd_error</th>\n",
       "      <td>0.000000</td>\n",
       "    </tr>\n",
       "    <tr>\n",
       "      <th>concavity_worst</th>\n",
       "      <td>0.000000</td>\n",
       "    </tr>\n",
       "    <tr>\n",
       "      <th>concavity_sd_error</th>\n",
       "      <td>0.000000</td>\n",
       "    </tr>\n",
       "    <tr>\n",
       "      <th>radius_mean</th>\n",
       "      <td>0.000000</td>\n",
       "    </tr>\n",
       "    <tr>\n",
       "      <th>compactness_sd_error</th>\n",
       "      <td>0.000000</td>\n",
       "    </tr>\n",
       "    <tr>\n",
       "      <th>radius_sd_error</th>\n",
       "      <td>0.000000</td>\n",
       "    </tr>\n",
       "    <tr>\n",
       "      <th>smoothness_sd_error</th>\n",
       "      <td>0.000000</td>\n",
       "    </tr>\n",
       "    <tr>\n",
       "      <th>smoothness_mean</th>\n",
       "      <td>0.000000</td>\n",
       "    </tr>\n",
       "    <tr>\n",
       "      <th>area_worst</th>\n",
       "      <td>0.000000</td>\n",
       "    </tr>\n",
       "    <tr>\n",
       "      <th>area_mean</th>\n",
       "      <td>0.000000</td>\n",
       "    </tr>\n",
       "    <tr>\n",
       "      <th>perimeter_worst</th>\n",
       "      <td>0.000000</td>\n",
       "    </tr>\n",
       "    <tr>\n",
       "      <th>texture_sd_error</th>\n",
       "      <td>0.000000</td>\n",
       "    </tr>\n",
       "    <tr>\n",
       "      <th>texture_mean</th>\n",
       "      <td>0.000000</td>\n",
       "    </tr>\n",
       "    <tr>\n",
       "      <th>radius_worst</th>\n",
       "      <td>0.000000</td>\n",
       "    </tr>\n",
       "    <tr>\n",
       "      <th>texture_worst</th>\n",
       "      <td>-0.001173</td>\n",
       "    </tr>\n",
       "    <tr>\n",
       "      <th>concavity_mean</th>\n",
       "      <td>-0.501839</td>\n",
       "    </tr>\n",
       "    <tr>\n",
       "      <th>compactness_mean</th>\n",
       "      <td>-0.999563</td>\n",
       "    </tr>\n",
       "  </tbody>\n",
       "</table>\n",
       "</div>"
      ],
      "text/plain": [
       "                            Importance\n",
       "concave_points_worst          2.577622\n",
       "area_sd_error                 2.244816\n",
       "concave_points_sd_error       1.910407\n",
       "perimeter_sd_error            1.225849\n",
       "concave_points_mean           1.182376\n",
       "symmetry_worst                0.909230\n",
       "fractal_dimension_mean        0.819194\n",
       "symmetry_mean                 0.526121\n",
       "fractal_dimension_sd_error    0.495557\n",
       "smoothness_worst              0.254107\n",
       "fractal_dimension_worst       0.038761\n",
       "perimeter_mean                0.032328\n",
       "compactness_worst             0.000000\n",
       "symmetry_sd_error             0.000000\n",
       "concavity_worst               0.000000\n",
       "concavity_sd_error            0.000000\n",
       "radius_mean                   0.000000\n",
       "compactness_sd_error          0.000000\n",
       "radius_sd_error               0.000000\n",
       "smoothness_sd_error           0.000000\n",
       "smoothness_mean               0.000000\n",
       "area_worst                    0.000000\n",
       "area_mean                     0.000000\n",
       "perimeter_worst               0.000000\n",
       "texture_sd_error              0.000000\n",
       "texture_mean                  0.000000\n",
       "radius_worst                  0.000000\n",
       "texture_worst                -0.001173\n",
       "concavity_mean               -0.501839\n",
       "compactness_mean             -0.999563"
      ]
     },
     "execution_count": 167,
     "metadata": {},
     "output_type": "execute_result"
    }
   ],
   "source": [
    "#Feature Importances\n",
    "pd.DataFrame(logit.coef_.T, index=X.columns, columns=['Importance']).sort_values(by='Importance', ascending=False)"
   ]
  },
  {
   "cell_type": "markdown",
   "metadata": {},
   "source": [
    "I used a train-test split and an L1 penalty to control for overfitting in this model. I chose L1 instead of L2 to impart a more severe penalty, since so many of the variables were likely related and therefore redundant.\n",
    "\n",
    "Looking at the feature coefficients, the ones with the largest *absolute* values are the ones that are most important to the model. In this case, it seems the most predictive features were concave_points_worst, area_sd_error, and concave_points_sd_error.\n",
    "\n",
    "To evaluate the model, I looked at the classification report and the ROC-AUC score, but for this use case, the recall may be the best evaluator. This is because recall measures the model's ability to accurately classify the positives. We want to make sure we catch as many of the malignant samples as possible. Arguments can be made about also trying to minimize undue stress of false positives, but for simplicity's sake I'll say that the more positives the model catches, the better. The recall score for this model was 0.917"
   ]
  },
  {
   "cell_type": "markdown",
   "metadata": {},
   "source": [
    "### Classifier Number 2: Decision Tree"
   ]
  },
  {
   "cell_type": "code",
   "execution_count": 103,
   "metadata": {
    "collapsed": true
   },
   "outputs": [],
   "source": [
    "from sklearn.tree import DecisionTreeClassifier"
   ]
  },
  {
   "cell_type": "code",
   "execution_count": 238,
   "metadata": {
    "collapsed": true
   },
   "outputs": [],
   "source": [
    "clf = DecisionTreeClassifier(max_depth=10, min_samples_split=3, min_samples_leaf=3)"
   ]
  },
  {
   "cell_type": "code",
   "execution_count": 239,
   "metadata": {
    "collapsed": false
   },
   "outputs": [
    {
     "data": {
      "text/plain": [
       "DecisionTreeClassifier(class_weight=None, criterion='gini', max_depth=10,\n",
       "            max_features=None, max_leaf_nodes=None,\n",
       "            min_impurity_split=1e-07, min_samples_leaf=3,\n",
       "            min_samples_split=3, min_weight_fraction_leaf=0.0,\n",
       "            presort=False, random_state=None, splitter='best')"
      ]
     },
     "execution_count": 239,
     "metadata": {},
     "output_type": "execute_result"
    }
   ],
   "source": [
    "clf.fit(X_train, y_train)"
   ]
  },
  {
   "cell_type": "code",
   "execution_count": 240,
   "metadata": {
    "collapsed": false
   },
   "outputs": [
    {
     "data": {
      "text/html": [
       "<div>\n",
       "<table border=\"1\" class=\"dataframe\">\n",
       "  <thead>\n",
       "    <tr style=\"text-align: right;\">\n",
       "      <th></th>\n",
       "      <th>Feature</th>\n",
       "      <th>Importance</th>\n",
       "    </tr>\n",
       "  </thead>\n",
       "  <tbody>\n",
       "    <tr>\n",
       "      <th>27</th>\n",
       "      <td>fractal_dimension_mean</td>\n",
       "      <td>0.788447</td>\n",
       "    </tr>\n",
       "    <tr>\n",
       "      <th>23</th>\n",
       "      <td>concave_points_worst</td>\n",
       "      <td>0.128264</td>\n",
       "    </tr>\n",
       "    <tr>\n",
       "      <th>21</th>\n",
       "      <td>concave_points_mean</td>\n",
       "      <td>0.032350</td>\n",
       "    </tr>\n",
       "    <tr>\n",
       "      <th>13</th>\n",
       "      <td>smoothness_sd_error</td>\n",
       "      <td>0.023146</td>\n",
       "    </tr>\n",
       "    <tr>\n",
       "      <th>24</th>\n",
       "      <td>symmetry_mean</td>\n",
       "      <td>0.013243</td>\n",
       "    </tr>\n",
       "    <tr>\n",
       "      <th>25</th>\n",
       "      <td>symmetry_sd_error</td>\n",
       "      <td>0.011561</td>\n",
       "    </tr>\n",
       "    <tr>\n",
       "      <th>1</th>\n",
       "      <td>radius_sd_error</td>\n",
       "      <td>0.002989</td>\n",
       "    </tr>\n",
       "    <tr>\n",
       "      <th>0</th>\n",
       "      <td>radius_mean</td>\n",
       "      <td>0.000000</td>\n",
       "    </tr>\n",
       "    <tr>\n",
       "      <th>16</th>\n",
       "      <td>compactness_sd_error</td>\n",
       "      <td>0.000000</td>\n",
       "    </tr>\n",
       "    <tr>\n",
       "      <th>28</th>\n",
       "      <td>fractal_dimension_sd_error</td>\n",
       "      <td>0.000000</td>\n",
       "    </tr>\n",
       "    <tr>\n",
       "      <th>26</th>\n",
       "      <td>symmetry_worst</td>\n",
       "      <td>0.000000</td>\n",
       "    </tr>\n",
       "    <tr>\n",
       "      <th>22</th>\n",
       "      <td>concave_points_sd_error</td>\n",
       "      <td>0.000000</td>\n",
       "    </tr>\n",
       "    <tr>\n",
       "      <th>20</th>\n",
       "      <td>concavity_worst</td>\n",
       "      <td>0.000000</td>\n",
       "    </tr>\n",
       "    <tr>\n",
       "      <th>19</th>\n",
       "      <td>concavity_sd_error</td>\n",
       "      <td>0.000000</td>\n",
       "    </tr>\n",
       "    <tr>\n",
       "      <th>18</th>\n",
       "      <td>concavity_mean</td>\n",
       "      <td>0.000000</td>\n",
       "    </tr>\n",
       "    <tr>\n",
       "      <th>17</th>\n",
       "      <td>compactness_worst</td>\n",
       "      <td>0.000000</td>\n",
       "    </tr>\n",
       "    <tr>\n",
       "      <th>15</th>\n",
       "      <td>compactness_mean</td>\n",
       "      <td>0.000000</td>\n",
       "    </tr>\n",
       "    <tr>\n",
       "      <th>14</th>\n",
       "      <td>smoothness_worst</td>\n",
       "      <td>0.000000</td>\n",
       "    </tr>\n",
       "    <tr>\n",
       "      <th>12</th>\n",
       "      <td>smoothness_mean</td>\n",
       "      <td>0.000000</td>\n",
       "    </tr>\n",
       "    <tr>\n",
       "      <th>11</th>\n",
       "      <td>area_worst</td>\n",
       "      <td>0.000000</td>\n",
       "    </tr>\n",
       "    <tr>\n",
       "      <th>10</th>\n",
       "      <td>area_sd_error</td>\n",
       "      <td>0.000000</td>\n",
       "    </tr>\n",
       "    <tr>\n",
       "      <th>9</th>\n",
       "      <td>area_mean</td>\n",
       "      <td>0.000000</td>\n",
       "    </tr>\n",
       "    <tr>\n",
       "      <th>8</th>\n",
       "      <td>perimeter_worst</td>\n",
       "      <td>0.000000</td>\n",
       "    </tr>\n",
       "    <tr>\n",
       "      <th>7</th>\n",
       "      <td>perimeter_sd_error</td>\n",
       "      <td>0.000000</td>\n",
       "    </tr>\n",
       "    <tr>\n",
       "      <th>6</th>\n",
       "      <td>perimeter_mean</td>\n",
       "      <td>0.000000</td>\n",
       "    </tr>\n",
       "    <tr>\n",
       "      <th>5</th>\n",
       "      <td>texture_worst</td>\n",
       "      <td>0.000000</td>\n",
       "    </tr>\n",
       "    <tr>\n",
       "      <th>4</th>\n",
       "      <td>texture_sd_error</td>\n",
       "      <td>0.000000</td>\n",
       "    </tr>\n",
       "    <tr>\n",
       "      <th>3</th>\n",
       "      <td>texture_mean</td>\n",
       "      <td>0.000000</td>\n",
       "    </tr>\n",
       "    <tr>\n",
       "      <th>2</th>\n",
       "      <td>radius_worst</td>\n",
       "      <td>0.000000</td>\n",
       "    </tr>\n",
       "    <tr>\n",
       "      <th>29</th>\n",
       "      <td>fractal_dimension_worst</td>\n",
       "      <td>0.000000</td>\n",
       "    </tr>\n",
       "  </tbody>\n",
       "</table>\n",
       "</div>"
      ],
      "text/plain": [
       "                       Feature  Importance\n",
       "27      fractal_dimension_mean    0.788447\n",
       "23        concave_points_worst    0.128264\n",
       "21         concave_points_mean    0.032350\n",
       "13         smoothness_sd_error    0.023146\n",
       "24               symmetry_mean    0.013243\n",
       "25           symmetry_sd_error    0.011561\n",
       "1              radius_sd_error    0.002989\n",
       "0                  radius_mean    0.000000\n",
       "16        compactness_sd_error    0.000000\n",
       "28  fractal_dimension_sd_error    0.000000\n",
       "26              symmetry_worst    0.000000\n",
       "22     concave_points_sd_error    0.000000\n",
       "20             concavity_worst    0.000000\n",
       "19          concavity_sd_error    0.000000\n",
       "18              concavity_mean    0.000000\n",
       "17           compactness_worst    0.000000\n",
       "15            compactness_mean    0.000000\n",
       "14            smoothness_worst    0.000000\n",
       "12             smoothness_mean    0.000000\n",
       "11                  area_worst    0.000000\n",
       "10               area_sd_error    0.000000\n",
       "9                    area_mean    0.000000\n",
       "8              perimeter_worst    0.000000\n",
       "7           perimeter_sd_error    0.000000\n",
       "6               perimeter_mean    0.000000\n",
       "5                texture_worst    0.000000\n",
       "4             texture_sd_error    0.000000\n",
       "3                 texture_mean    0.000000\n",
       "2                 radius_worst    0.000000\n",
       "29     fractal_dimension_worst    0.000000"
      ]
     },
     "execution_count": 240,
     "metadata": {},
     "output_type": "execute_result"
    }
   ],
   "source": [
    "#http://stackoverflow.com/questions/23900080/how-are-feature-importances-ordered-in-scikit-learns-randomforestregressor\n",
    "pd.DataFrame(zip(X.columns, clf.feature_importances_), columns= ['Feature','Importance']).sort_values(by='Importance', ascending=False)"
   ]
  },
  {
   "cell_type": "code",
   "execution_count": 241,
   "metadata": {
    "collapsed": true
   },
   "outputs": [],
   "source": [
    "clf_predictions = clf.predict(X_test)"
   ]
  },
  {
   "cell_type": "code",
   "execution_count": 242,
   "metadata": {
    "collapsed": false
   },
   "outputs": [
    {
     "name": "stdout",
     "output_type": "stream",
     "text": [
      "             precision    recall  f1-score   support\n",
      "\n",
      "          0       0.92      0.95      0.93       111\n",
      "          1       0.89      0.85      0.87        60\n",
      "\n",
      "avg / total       0.91      0.91      0.91       171\n",
      "\n"
     ]
    }
   ],
   "source": [
    "print metrics.classification_report(y_test, clf_predictions)"
   ]
  },
  {
   "cell_type": "code",
   "execution_count": 243,
   "metadata": {
    "collapsed": false
   },
   "outputs": [
    {
     "name": "stdout",
     "output_type": "stream",
     "text": [
      "0.897972972973\n"
     ]
    }
   ],
   "source": [
    "print metrics.roc_auc_score(y_test, clf_predictions)"
   ]
  },
  {
   "cell_type": "code",
   "execution_count": 244,
   "metadata": {
    "collapsed": false
   },
   "outputs": [
    {
     "name": "stdout",
     "output_type": "stream",
     "text": [
      "0.85\n"
     ]
    }
   ],
   "source": [
    "print metrics.recall_score(y_test, clf_predictions)"
   ]
  },
  {
   "cell_type": "markdown",
   "metadata": {},
   "source": [
    "To control for overfitting in my decision tree classifier, I assigned a value of 10 to max_depth and a minimum number of features for both the splits and the leafs.\n",
    "\n",
    "The decision tree classifier method in sklearn has a feature importances attribute that can be used to see which variables were most important. Looking at the resulting data frame, concave_points_sd_error, symmetry_mean, and fractal_dimension_worst are the most predictive variables.\n",
    "\n",
    "As with the logisitic regression, it seems best to evaluate the model using the recall score. This score was lower than that of the logistic model, .85, meaning the model caught fewer of the malignant samples."
   ]
  },
  {
   "cell_type": "markdown",
   "metadata": {},
   "source": [
    "#### Technical Audience: Limitations and Future Steps\n",
    "\n",
    "More sophisticated tuning of parameters would likely yield higher-performing models. To maximize number of true positives and minimize false negatives, I could adjust class weights in both the logit and decision tree models. In the logistic regression I could test various penalty values (C) and in the decision tree I could test out various combinations of max_depth, min_samples_split, and min_samples_leaf; the values I assigned are arbitrary.\n",
    "\n",
    "On top of these oversights, the models themselves bring inherent problems. Logistic regressions assume that all variables are independent. Decision trees run the risk of finding local optima."
   ]
  },
  {
   "cell_type": "markdown",
   "metadata": {},
   "source": [
    "#### Non-technical Audience: \n",
    "\n",
    "In-order to classify tumors as either malignant or benign, I used two classification methods known as 'logistic regression' and 'decision trees.'\n",
    "\n",
    "The first method takes two different classes (in this case, malignant tumors and benign ones) and decides which of these classes a given observation likely fits into based on the characteristics of that observation. So, for example, cells with a bigger radius might be more likely to have cancer, so the logistic regression would assign cells with bigger radii a higher probability of having cancer than ones with smaller radii. After calculating the probability that a given observation falls into a class, the model then assigns that observation to one of the two classes. If, for example, the model thought one observation had a 60% chance of being cancerous, then it would assign it to the malignant class; if an observation had a 40% chance, it would assign it to the benign class. The previous example assumes that the threshold for assignment was 50%, but you don't need to worry about that. Looking at the feature importances, it seems the are and concavity of the cells were the best predictors of malignant vs benign.\n",
    "\n",
    "My other model, the decision tree, operates in a different manner. Decision trees essentially split up groups of observations based on their features' values in a way that discriminates well between the different classes. So in this example, the model might find that most observations with a mean radius > 20 cm are malignant and most with a mean radius < 20 cm are benign, so it splits up the data according those values. Then, it splits those two groups of observations up based on another feature's value, and so on, and so forth. Then, it can say, given an observation's values, what category it most likely falls into, and then classify it as such. This model found that the fractal dimension and concavity of cells were the best predictors of malignant vs benign."
   ]
  },
  {
   "cell_type": "markdown",
   "metadata": {},
   "source": [
    "# Part 2:"
   ]
  },
  {
   "cell_type": "code",
   "execution_count": 248,
   "metadata": {
    "collapsed": true
   },
   "outputs": [],
   "source": [
    "pt2df = pd.read_csv('https://gist.githubusercontent.com/jeff-boykin/9e1a450ef152604e6830ce70f4fc1be8/raw/4d42aebc2c2d3f7528a7769248720918e14f2e03/part-2-data.train.csv')"
   ]
  },
  {
   "cell_type": "code",
   "execution_count": 249,
   "metadata": {
    "collapsed": true
   },
   "outputs": [
    {
     "data": {
      "text/html": [
       "<div>\n",
       "<table border=\"1\" class=\"dataframe\">\n",
       "  <thead>\n",
       "    <tr style=\"text-align: right;\">\n",
       "      <th></th>\n",
       "      <th>Id</th>\n",
       "      <th>Title</th>\n",
       "      <th>FullDescription</th>\n",
       "      <th>LocationRaw</th>\n",
       "      <th>LocationNormalized</th>\n",
       "      <th>ContractType</th>\n",
       "      <th>ContractTime</th>\n",
       "      <th>Company</th>\n",
       "      <th>Category</th>\n",
       "      <th>SalaryRaw</th>\n",
       "      <th>SalaryNormalized</th>\n",
       "      <th>SourceName</th>\n",
       "    </tr>\n",
       "  </thead>\n",
       "  <tbody>\n",
       "    <tr>\n",
       "      <th>0</th>\n",
       "      <td>12612628</td>\n",
       "      <td>Engineering Systems Analyst</td>\n",
       "      <td>Engineering Systems Analyst Dorking Surrey Sal...</td>\n",
       "      <td>Dorking, Surrey, Surrey</td>\n",
       "      <td>Dorking</td>\n",
       "      <td>NaN</td>\n",
       "      <td>permanent</td>\n",
       "      <td>Gregory Martin International</td>\n",
       "      <td>Engineering Jobs</td>\n",
       "      <td>20000 - 30000/annum 20-30K</td>\n",
       "      <td>25000</td>\n",
       "      <td>cv-library.co.uk</td>\n",
       "    </tr>\n",
       "    <tr>\n",
       "      <th>1</th>\n",
       "      <td>12612830</td>\n",
       "      <td>Stress Engineer Glasgow</td>\n",
       "      <td>Stress Engineer Glasgow Salary **** to **** We...</td>\n",
       "      <td>Glasgow, Scotland, Scotland</td>\n",
       "      <td>Glasgow</td>\n",
       "      <td>NaN</td>\n",
       "      <td>permanent</td>\n",
       "      <td>Gregory Martin International</td>\n",
       "      <td>Engineering Jobs</td>\n",
       "      <td>25000 - 35000/annum 25-35K</td>\n",
       "      <td>30000</td>\n",
       "      <td>cv-library.co.uk</td>\n",
       "    </tr>\n",
       "    <tr>\n",
       "      <th>2</th>\n",
       "      <td>12612844</td>\n",
       "      <td>Modelling and simulation analyst</td>\n",
       "      <td>Mathematical Modeller / Simulation Analyst / O...</td>\n",
       "      <td>Hampshire, South East, South East</td>\n",
       "      <td>Hampshire</td>\n",
       "      <td>NaN</td>\n",
       "      <td>permanent</td>\n",
       "      <td>Gregory Martin International</td>\n",
       "      <td>Engineering Jobs</td>\n",
       "      <td>20000 - 40000/annum 20-40K</td>\n",
       "      <td>30000</td>\n",
       "      <td>cv-library.co.uk</td>\n",
       "    </tr>\n",
       "    <tr>\n",
       "      <th>3</th>\n",
       "      <td>12613049</td>\n",
       "      <td>Engineering Systems Analyst / Mathematical Mod...</td>\n",
       "      <td>Engineering Systems Analyst / Mathematical Mod...</td>\n",
       "      <td>Surrey, South East, South East</td>\n",
       "      <td>Surrey</td>\n",
       "      <td>NaN</td>\n",
       "      <td>permanent</td>\n",
       "      <td>Gregory Martin International</td>\n",
       "      <td>Engineering Jobs</td>\n",
       "      <td>25000 - 30000/annum 25K-30K negotiable</td>\n",
       "      <td>27500</td>\n",
       "      <td>cv-library.co.uk</td>\n",
       "    </tr>\n",
       "    <tr>\n",
       "      <th>4</th>\n",
       "      <td>12613647</td>\n",
       "      <td>Pioneer, Miser Engineering Systems Analyst</td>\n",
       "      <td>Pioneer, Miser  Engineering Systems Analyst Do...</td>\n",
       "      <td>Surrey, South East, South East</td>\n",
       "      <td>Surrey</td>\n",
       "      <td>NaN</td>\n",
       "      <td>permanent</td>\n",
       "      <td>Gregory Martin International</td>\n",
       "      <td>Engineering Jobs</td>\n",
       "      <td>20000 - 30000/annum 20-30K</td>\n",
       "      <td>25000</td>\n",
       "      <td>cv-library.co.uk</td>\n",
       "    </tr>\n",
       "  </tbody>\n",
       "</table>\n",
       "</div>"
      ],
      "text/plain": [
       "         Id                                              Title  \\\n",
       "0  12612628                        Engineering Systems Analyst   \n",
       "1  12612830                            Stress Engineer Glasgow   \n",
       "2  12612844                   Modelling and simulation analyst   \n",
       "3  12613049  Engineering Systems Analyst / Mathematical Mod...   \n",
       "4  12613647         Pioneer, Miser Engineering Systems Analyst   \n",
       "\n",
       "                                     FullDescription  \\\n",
       "0  Engineering Systems Analyst Dorking Surrey Sal...   \n",
       "1  Stress Engineer Glasgow Salary **** to **** We...   \n",
       "2  Mathematical Modeller / Simulation Analyst / O...   \n",
       "3  Engineering Systems Analyst / Mathematical Mod...   \n",
       "4  Pioneer, Miser  Engineering Systems Analyst Do...   \n",
       "\n",
       "                         LocationRaw LocationNormalized ContractType  \\\n",
       "0            Dorking, Surrey, Surrey            Dorking          NaN   \n",
       "1        Glasgow, Scotland, Scotland            Glasgow          NaN   \n",
       "2  Hampshire, South East, South East          Hampshire          NaN   \n",
       "3     Surrey, South East, South East             Surrey          NaN   \n",
       "4     Surrey, South East, South East             Surrey          NaN   \n",
       "\n",
       "  ContractTime                       Company          Category  \\\n",
       "0    permanent  Gregory Martin International  Engineering Jobs   \n",
       "1    permanent  Gregory Martin International  Engineering Jobs   \n",
       "2    permanent  Gregory Martin International  Engineering Jobs   \n",
       "3    permanent  Gregory Martin International  Engineering Jobs   \n",
       "4    permanent  Gregory Martin International  Engineering Jobs   \n",
       "\n",
       "                                SalaryRaw  SalaryNormalized        SourceName  \n",
       "0              20000 - 30000/annum 20-30K             25000  cv-library.co.uk  \n",
       "1              25000 - 35000/annum 25-35K             30000  cv-library.co.uk  \n",
       "2              20000 - 40000/annum 20-40K             30000  cv-library.co.uk  \n",
       "3  25000 - 30000/annum 25K-30K negotiable             27500  cv-library.co.uk  \n",
       "4              20000 - 30000/annum 20-30K             25000  cv-library.co.uk  "
      ]
     },
     "execution_count": 249,
     "metadata": {},
     "output_type": "execute_result"
    }
   ],
   "source": [
    "#Just checking out the data\n",
    "pt2df.head()"
   ]
  },
  {
   "cell_type": "code",
   "execution_count": 257,
   "metadata": {
    "collapsed": false
   },
   "outputs": [
    {
     "data": {
      "text/plain": [
       "Id                       0\n",
       "Title                    1\n",
       "FullDescription          0\n",
       "LocationRaw              0\n",
       "LocationNormalized       0\n",
       "ContractType          6444\n",
       "ContractTime          5263\n",
       "Company               4049\n",
       "Category                 0\n",
       "SalaryRaw                0\n",
       "SalaryNormalized         0\n",
       "SourceName               0\n",
       "dtype: int64"
      ]
     },
     "execution_count": 257,
     "metadata": {},
     "output_type": "execute_result"
    }
   ],
   "source": [
    "pt2df.isnull().sum()"
   ]
  },
  {
   "cell_type": "code",
   "execution_count": 258,
   "metadata": {
    "collapsed": false
   },
   "outputs": [
    {
     "data": {
      "text/plain": [
       "(10000, 12)"
      ]
     },
     "execution_count": 258,
     "metadata": {},
     "output_type": "execute_result"
    }
   ],
   "source": [
    "pt2df.shape"
   ]
  },
  {
   "cell_type": "markdown",
   "metadata": {},
   "source": [
    "### Student Sample 1"
   ]
  },
  {
   "cell_type": "code",
   "execution_count": 254,
   "metadata": {
    "collapsed": false
   },
   "outputs": [
    {
     "name": "stdout",
     "output_type": "stream",
     "text": [
      "-11733.827883\n"
     ]
    },
    {
     "name": "stderr",
     "output_type": "stream",
     "text": [
      "/Users/mjspeck/anaconda/lib/python2.7/site-packages/scipy/linalg/basic.py:1018: RuntimeWarning: internal gelsd driver lwork query error, required iwork dimension not returned. This is likely the result of LAPACK bug 0038, fixed in LAPACK 3.2.2 (released July 21, 2010). Falling back to 'gelss' driver.\n",
      "  warnings.warn(mesg, RuntimeWarning)\n",
      "/Users/mjspeck/anaconda/lib/python2.7/site-packages/sklearn/metrics/scorer.py:90: DeprecationWarning: Scoring method mean_absolute_error was renamed to neg_mean_absolute_error in version 0.18 and will be removed in 0.20.\n",
      "  sample_weight=sample_weight)\n",
      "/Users/mjspeck/anaconda/lib/python2.7/site-packages/sklearn/metrics/scorer.py:90: DeprecationWarning: Scoring method mean_absolute_error was renamed to neg_mean_absolute_error in version 0.18 and will be removed in 0.20.\n",
      "  sample_weight=sample_weight)\n"
     ]
    }
   ],
   "source": [
    "#This is modified code in order to debug\n",
    "\n",
    "#!/usr/bin/env python\n",
    "\n",
    "import pandas as pd\n",
    "import numpy as np\n",
    "from sklearn.linear_model import LinearRegression\n",
    "from sklearn.cross_validation import cross_val_score\n",
    "\n",
    "# Load data\n",
    "#d = pd.read_csv('../data/train.csv')\n",
    "\n",
    "\n",
    "# Setup data for prediction\n",
    "x1 = pt2df.SalaryNormalized\n",
    "x2 = pd.get_dummies(pt2df.ContractType)\n",
    "\n",
    "# Setup model\n",
    "model = LinearRegression()\n",
    "\n",
    "# Evaluate model\n",
    "from sklearn.cross_validation import cross_val_score\n",
    "from sklearn.cross_validation import train_test_split\n",
    "scores = cross_val_score(model, x2, x1, cv=2, scoring='mean_absolute_error')\n",
    "print(scores.mean())"
   ]
  },
  {
   "cell_type": "code",
   "execution_count": null,
   "metadata": {
    "collapsed": true
   },
   "outputs": [],
   "source": [
    "#!/usr/bin/env python\n",
    "\n",
    "import pandas as pd\n",
    "import numpy as np\n",
    "from sklearn import LinearRegression\n",
    "from sklearn.cross_validation import cross_val_score\n",
    "\n",
    "# Load data\n",
    "d = pd.read_csv('../data/train.csv')\n",
    "\n",
    "\n",
    "# Setup data for prediction\n",
    "x1 = data.SalaryNormalized\n",
    "x2 = pd.get_dummies(data.ContractType)\n",
    "\n",
    "# Setup model\n",
    "model = LinearRegression()\n",
    "\n",
    "# Evaluate model\n",
    "from sklearn.cross_validation import cross_val_score\n",
    "from sklearn.cross_validation import train_test_split\n",
    "scores = cross_val_score(model, x2, x1, cv=1, scoring='mean_absolute_error')\n",
    "print(scores.mean())"
   ]
  },
  {
   "cell_type": "markdown",
   "metadata": {},
   "source": [
    "* LinearRegression needs to be imported from sklearn.linear_model\n",
    "\n",
    "* The variable you assigned your data to (d) doesn't match up with the code below it (you used data as the variable name). Make sure you're using the correct variable whenever you write your code. Also, try variable names that you will be able to remember or that are intuitive. For your data set, maybe use df (for dataframe) or data, as you do later on.\n",
    "\n",
    "* Similar to the last point, make sure variable names make sense. You're assigning data.SalaryNormalized to x1, which implies that SalaryNormalized is a *feature* when it should be a *target*. \n",
    "\n",
    "* Choosing features to include in your model is a crucial step. I'd encourage you to do some EDA before assigning an X. Maybe look at correlations, distributions, null values.\n",
    "\n",
    "+ You definitely know how to instantiate a model and assign parameters within cross_val_score. These are important programmatic concepts and it's great to see your grasp of them.\n",
    "\n",
    "* We use cross_val_score to iteratively fit and test our model across several slices of our data. Using a cv=1 means that we aren't making any slices (the entire data set is one slice). The documentation also says cv must be at least 2.\n",
    "\n",
    "* You imported train_test_split, but didn't use it!\n",
    "\n",
    "* No need to import cross_val_score twice\n",
    "\n",
    "* We're not just interested in the mean score, we also want to see how much variance the scores have.\n",
    "\n",
    "* It's important to remember that while scoring how well a model works on the training data helps us improve our model, the true test of our model's strength is how it performs on the test set. If you had done a train-test-split we would want to see scores for those predicted y-values compared to the actual y-values.\n",
    "\n",
    "* Try to make your comments more descriptive. Tell me why you're choosing certain parameters, features, etc. and what your code should do."
   ]
  },
  {
   "cell_type": "markdown",
   "metadata": {},
   "source": [
    "### Student Sample 2"
   ]
  },
  {
   "cell_type": "code",
   "execution_count": 256,
   "metadata": {
    "collapsed": false
   },
   "outputs": [
    {
     "name": "stdout",
     "output_type": "stream",
     "text": [
      "-11822.1402313\n"
     ]
    },
    {
     "name": "stderr",
     "output_type": "stream",
     "text": [
      "/Users/mjspeck/anaconda/lib/python2.7/site-packages/sklearn/metrics/scorer.py:90: DeprecationWarning: Scoring method mean_absolute_error was renamed to neg_mean_absolute_error in version 0.18 and will be removed in 0.20.\n",
      "  sample_weight=sample_weight)\n",
      "/Users/mjspeck/anaconda/lib/python2.7/site-packages/sklearn/metrics/scorer.py:90: DeprecationWarning: Scoring method mean_absolute_error was renamed to neg_mean_absolute_error in version 0.18 and will be removed in 0.20.\n",
      "  sample_weight=sample_weight)\n",
      "/Users/mjspeck/anaconda/lib/python2.7/site-packages/sklearn/metrics/scorer.py:90: DeprecationWarning: Scoring method mean_absolute_error was renamed to neg_mean_absolute_error in version 0.18 and will be removed in 0.20.\n",
      "  sample_weight=sample_weight)\n",
      "/Users/mjspeck/anaconda/lib/python2.7/site-packages/sklearn/metrics/scorer.py:90: DeprecationWarning: Scoring method mean_absolute_error was renamed to neg_mean_absolute_error in version 0.18 and will be removed in 0.20.\n",
      "  sample_weight=sample_weight)\n",
      "/Users/mjspeck/anaconda/lib/python2.7/site-packages/sklearn/metrics/scorer.py:90: DeprecationWarning: Scoring method mean_absolute_error was renamed to neg_mean_absolute_error in version 0.18 and will be removed in 0.20.\n",
      "  sample_weight=sample_weight)\n"
     ]
    }
   ],
   "source": [
    "#!/usr/bin/env python\n",
    "\n",
    "import pandas as pd\n",
    "import numpy as np\n",
    "from sklearn.linear_model import LinearRegression\n",
    "from sklearn.cross_validation import cross_val_score\n",
    "\n",
    "# Load data\n",
    "data = pd.read_csv('../data/train.csv')\n",
    "\n",
    "\n",
    "# Setup data for prediction\n",
    "y = data.SalaryNormalized\n",
    "X = data.get_dummies(data.ContractType)\n",
    "\n",
    "# Setup model\n",
    "model = LinearRegression()\n",
    "\n",
    "# Evaluate model\n",
    "scores = cross_val_score(model, X, y, cv=5, scoring='mean_absolute_error')\n",
    "print(scores.mean())"
   ]
  },
  {
   "cell_type": "markdown",
   "metadata": {},
   "source": [
    "+ All variables assigned correctly, model instantiated, and cross_val_score run\n",
    "\n",
    "* Choosing features to include in your model is a crucial step. I'd encourage you to do some EDA before assigning an X. Maybe look at correlations, distributions, null values.\n",
    "\n",
    "* It's fine to look at scoring metrics on the training data, in order to see whether we might want to change parameters or features, but this is not how we ultimately evaluate the finished model. When we evaluate our model, we want to do that evaluation on data that the model hasn't seen before, this is why we do train-test splits. \n",
    "\n",
    "* We're not just interested in the mean score, we also want to see how much variance the scores have.\n",
    "\n",
    "* Try adding a bit more explanation in your comments"
   ]
  }
 ],
 "metadata": {
  "kernelspec": {
   "display_name": "Python 2",
   "language": "python",
   "name": "python2"
  },
  "language_info": {
   "codemirror_mode": {
    "name": "ipython",
    "version": 2
   },
   "file_extension": ".py",
   "mimetype": "text/x-python",
   "name": "python",
   "nbconvert_exporter": "python",
   "pygments_lexer": "ipython2",
   "version": "2.7.13"
  }
 },
 "nbformat": 4,
 "nbformat_minor": 2
}
