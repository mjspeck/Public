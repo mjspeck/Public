{
 "cells": [
  {
   "cell_type": "markdown",
   "metadata": {},
   "source": [
    "## Iris Data Lab\n",
    "----\n",
    "### Matt Speck"
   ]
  },
  {
   "cell_type": "markdown",
   "metadata": {},
   "source": [
    "### 1. Read in the iris dataset located in 1.10-notebooks-and-CSVs-lab/data"
   ]
  },
  {
   "cell_type": "code",
   "execution_count": 37,
   "metadata": {
    "collapsed": false
   },
   "outputs": [],
   "source": [
    "#Import csv library\n",
    "import csv\n",
    "\n",
    "#Initialize empty list that will serve as list of lists for data from iris.csv\n",
    "data=[]\n",
    "with open('../data/iris.csv', 'rU') as f:\n",
    "    reader = csv.reader(f) #take iris.csv and turn into iterable\n",
    "    for row in reader: #turn reader into list of lists\n",
    "        data.append(row)\n",
    "f.close()"
   ]
  },
  {
   "cell_type": "markdown",
   "metadata": {},
   "source": [
    "### 2. Notice the first list in your dataset is the column names. Eliminate it."
   ]
  },
  {
   "cell_type": "code",
   "execution_count": null,
   "metadata": {
    "collapsed": true
   },
   "outputs": [],
   "source": [
    "#Assign column names to variable col_names for future reference\n",
    "#Remove column names from data\n",
    "col_names = data[0]\n",
    "data = data[1:]"
   ]
  },
  {
   "cell_type": "markdown",
   "metadata": {},
   "source": [
    "### 3. Identify the number of observations in your dataset"
   ]
  },
  {
   "cell_type": "code",
   "execution_count": 36,
   "metadata": {
    "collapsed": false
   },
   "outputs": [
    {
     "name": "stdout",
     "output_type": "stream",
     "text": [
      "150\n"
     ]
    }
   ],
   "source": [
    "#Number of observations\n",
    "obs_nums = len(data)\n",
    "print obs_nums"
   ]
  },
  {
   "cell_type": "markdown",
   "metadata": {},
   "source": [
    "### 4. Identify what species is in row four of your dataset"
   ]
  },
  {
   "cell_type": "code",
   "execution_count": 15,
   "metadata": {
    "collapsed": false
   },
   "outputs": [
    {
     "name": "stdout",
     "output_type": "stream",
     "text": [
      "setosa\n"
     ]
    }
   ],
   "source": [
    "#Print species name of observation at row 4 (index 3)\n",
    "print(data[3][4])"
   ]
  },
  {
   "cell_type": "markdown",
   "metadata": {},
   "source": [
    "### 5. Calculate the average sepal length in the dataset (sepal is the first entry in each list)"
   ]
  },
  {
   "cell_type": "code",
   "execution_count": 21,
   "metadata": {
    "collapsed": false
   },
   "outputs": [
    {
     "name": "stdout",
     "output_type": "stream",
     "text": [
      "5.84333333333\n"
     ]
    }
   ],
   "source": [
    "#Remember what index 'sepal_length' is at\n",
    "sepal_loc = 0\n",
    "\n",
    "#Initializes empty list to house floats of all sepal lengths\n",
    "sepal_lengths = []\n",
    "for obs in data:\n",
    "    sepal_lengths.append(float(obs[sepal_loc]))\n",
    "\n",
    "#import numpy library for mean function\n",
    "import numpy as np\n",
    "avg_sepal = np.mean(sepal_lengths) #Take average sepal length and assign it to variable avg_sepal\n",
    "\n",
    "print avg_sepal"
   ]
  },
  {
   "cell_type": "markdown",
   "metadata": {},
   "source": [
    "### 6. Calculate the average sepal length of setosa flowers using a loop"
   ]
  },
  {
   "cell_type": "markdown",
   "metadata": {},
   "source": [
    "#### Long Way"
   ]
  },
  {
   "cell_type": "code",
   "execution_count": 32,
   "metadata": {
    "collapsed": false
   },
   "outputs": [
    {
     "name": "stdout",
     "output_type": "stream",
     "text": [
      "5.006\n"
     ]
    }
   ],
   "source": [
    "setosas_only = [] #Initialize empty list that will have all setosa flower entries\n",
    "setosas_only_sepals = [] #Initialize empty list that will have floats of setosa sepal lengths\n",
    "\n",
    "#Fill list of all observations of setosa flowers\n",
    "for obs in data:\n",
    "    if obs[4] == 'setosa':\n",
    "        setosas_only.append(obs)\n",
    "\n",
    "#Fill list of setosa sepal lengths\n",
    "for obs in setosas_only:\n",
    "    setosas_only_sepals.append(float(obs[0]))\n",
    "    \n",
    "avg_sepal_setosas = np.mean(setosas_only_sepals)\n",
    "print avg_sepal_setosas"
   ]
  },
  {
   "cell_type": "markdown",
   "metadata": {},
   "source": [
    "#### Better Way"
   ]
  },
  {
   "cell_type": "code",
   "execution_count": 34,
   "metadata": {
    "collapsed": false
   },
   "outputs": [
    {
     "name": "stdout",
     "output_type": "stream",
     "text": [
      "5.006\n"
     ]
    }
   ],
   "source": [
    "setosas_only_sepals = [] #Initialize empty list that will have floats of setosa sepal lengths\n",
    "\n",
    "#Fill list of all observations of setosa flowers\n",
    "for obs in data:\n",
    "    if obs[4] == 'setosa':\n",
    "        setosas_only_sepals.append(float(obs[0]))\n",
    "    \n",
    "avg_sepal_setosas = np.mean(setosas_only_sepals)\n",
    "print avg_sepal_setosas"
   ]
  },
  {
   "cell_type": "markdown",
   "metadata": {},
   "source": [
    "### Bonus"
   ]
  },
  {
   "cell_type": "code",
   "execution_count": 33,
   "metadata": {
    "collapsed": false
   },
   "outputs": [
    {
     "data": {
      "text/plain": [
       "5.0060000000000002"
      ]
     },
     "execution_count": 33,
     "metadata": {},
     "output_type": "execute_result"
    }
   ],
   "source": [
    "def sepal_len(species):\n",
    "    species_only_sepals = []\n",
    "    \n",
    "    for obs in data:\n",
    "        if obs[4] == species:\n",
    "            species_only_sepals.append(float(obs[0]))\n",
    "            \n",
    "    return np.mean(species_only_sepals)\n",
    "\n",
    "sepal_len('setosa')"
   ]
  },
  {
   "cell_type": "code",
   "execution_count": null,
   "metadata": {
    "collapsed": true
   },
   "outputs": [],
   "source": []
  }
 ],
 "metadata": {
  "kernelspec": {
   "display_name": "Python 2",
   "language": "python",
   "name": "python2"
  },
  "language_info": {
   "codemirror_mode": {
    "name": "ipython",
    "version": 2
   },
   "file_extension": ".py",
   "mimetype": "text/x-python",
   "name": "python",
   "nbconvert_exporter": "python",
   "pygments_lexer": "ipython2",
   "version": "2.7.13"
  }
 },
 "nbformat": 4,
 "nbformat_minor": 2
}
